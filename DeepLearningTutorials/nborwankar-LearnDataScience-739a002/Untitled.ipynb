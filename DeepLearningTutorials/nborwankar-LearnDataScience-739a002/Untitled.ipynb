{
 "cells": [
  {
   "cell_type": "code",
   "execution_count": 1,
   "metadata": {
    "collapsed": true
   },
   "outputs": [],
   "source": [
    "#we import all the required libraries\n",
    "import pandas as pd  \n",
    "import json\n",
    "import numpy as np"
   ]
  },
  {
   "cell_type": "code",
   "execution_count": 2,
   "metadata": {
    "collapsed": false
   },
   "outputs": [],
   "source": [
    "#we get the json file\n",
    "with open('./techcrunch/metadata_full.json') as fl:\n",
    "    metadata = json.load(fl)\n",
    "    \n",
    "#we process it in a dataframe that we clean\n",
    "DF = pd.DataFrame(metadata)\n",
    "DF = DF.transpose()\n",
    "DF = DF.reset_index()\n",
    "DF['url'] = DF['index']\n",
    "del DF[\"index\"]"
   ]
  },
  {
   "cell_type": "markdown",
   "metadata": {},
   "source": [
    "# Ajout des contenus des textes"
   ]
  },
  {
   "cell_type": "code",
   "execution_count": 3,
   "metadata": {
    "collapsed": false
   },
   "outputs": [],
   "source": [
    "#Thanks to the URL of the Json FIle, we import article contents in the DataFrame\n",
    "texts = []\n",
    "titles = DF[\"filename\"]\n",
    "for titre in titles:\n",
    "    path = \"./techcrunch/\" + titre\n",
    "    with open(path) as data:\n",
    "        texts.append(data.read())\n",
    "DF['content'] = pd.Series(texts)\n"
   ]
  },
  {
   "cell_type": "code",
   "execution_count": 4,
   "metadata": {
    "collapsed": false
   },
   "outputs": [
    {
     "data": {
      "text/html": [
       "<div>\n",
       "<table border=\"1\" class=\"dataframe\">\n",
       "  <thead>\n",
       "    <tr style=\"text-align: right;\">\n",
       "      <th></th>\n",
       "      <th>author</th>\n",
       "      <th>filename</th>\n",
       "      <th>related_links</th>\n",
       "      <th>search_term</th>\n",
       "      <th>timestamp</th>\n",
       "      <th>title</th>\n",
       "      <th>url</th>\n",
       "      <th>content</th>\n",
       "    </tr>\n",
       "  </thead>\n",
       "  <tbody>\n",
       "    <tr>\n",
       "      <th>0</th>\n",
       "      <td>http://techcrunch.com/2015/01/01/everyone-in-m...</td>\n",
       "      <td>everyone-in-management-is-a-programmer.txt</td>\n",
       "      <td>[https://www.relateiq.com/, http://www.shutter...</td>\n",
       "      <td>techcrunch</td>\n",
       "      <td>2015-01-01 08:00:04</td>\n",
       "      <td>Everyone In Management Is A Programmer</td>\n",
       "      <td>http://techcrunch.com/2015/01/01/everyone-in-m...</td>\n",
       "      <td>Editors note:Adam Evans is the co-founder and ...</td>\n",
       "    </tr>\n",
       "    <tr>\n",
       "      <th>1</th>\n",
       "      <td>http://techcrunch.com/2015/01/01/high-tech-or-...</td>\n",
       "      <td>high-tech-or-hangover-watch-quake-on-an-oscill...</td>\n",
       "      <td>[]</td>\n",
       "      <td>techcrunch</td>\n",
       "      <td>2015-01-01 11:25:20</td>\n",
       "      <td>High Tech Or Hangover? Watch Quake On An Oscil...</td>\n",
       "      <td>http://techcrunch.com/2015/01/01/high-tech-or-...</td>\n",
       "      <td>Head spinning? Stomach gurgling? Did you just ...</td>\n",
       "    </tr>\n",
       "    <tr>\n",
       "      <th>2</th>\n",
       "      <td>http://techcrunch.com/2015/01/01/how-will-conn...</td>\n",
       "      <td>how-will-connectivity-need-to-evolve-in-2015.txt</td>\n",
       "      <td>[http://continuuminnovation.com/, https://soun...</td>\n",
       "      <td>techcrunch</td>\n",
       "      <td>2015-01-01 14:00:26</td>\n",
       "      <td>How Connectivity Will Need To Evolve</td>\n",
       "      <td>http://techcrunch.com/2015/01/01/how-will-conn...</td>\n",
       "      <td>Editors note:Kevin Young is the senior vice pr...</td>\n",
       "    </tr>\n",
       "    <tr>\n",
       "      <th>3</th>\n",
       "      <td>http://techcrunch.com/2015/01/01/montblanc-ann...</td>\n",
       "      <td>montblanc-announces-a-smart-bracelet-for-your-...</td>\n",
       "      <td>[http://techcrunch.com/2014/12/30/the-kairos-t...</td>\n",
       "      <td>techcrunch</td>\n",
       "      <td>2015-01-01 12:04:22</td>\n",
       "      <td>Montblanc Announces A Smart Bracelet For Your ...</td>\n",
       "      <td>http://techcrunch.com/2015/01/01/montblanc-ann...</td>\n",
       "      <td>What did I tell you? In a last-ditch effort to...</td>\n",
       "    </tr>\n",
       "    <tr>\n",
       "      <th>4</th>\n",
       "      <td>http://techcrunch.com/2015/01/01/netflix-friends/</td>\n",
       "      <td>netflix-friends.txt</td>\n",
       "      <td>[https://twitter.com/hashtag/Friends?src=hash,...</td>\n",
       "      <td>techcrunch</td>\n",
       "      <td>2015-01-01 06:24:48</td>\n",
       "      <td>The One Where Netflix Started Streaming All Te...</td>\n",
       "      <td>http://techcrunch.com/2015/01/01/netflix-friends/</td>\n",
       "      <td>Christmas was about a week ago, but that doesn...</td>\n",
       "    </tr>\n",
       "  </tbody>\n",
       "</table>\n",
       "</div>"
      ],
      "text/plain": [
       "                                              author  \\\n",
       "0  http://techcrunch.com/2015/01/01/everyone-in-m...   \n",
       "1  http://techcrunch.com/2015/01/01/high-tech-or-...   \n",
       "2  http://techcrunch.com/2015/01/01/how-will-conn...   \n",
       "3  http://techcrunch.com/2015/01/01/montblanc-ann...   \n",
       "4  http://techcrunch.com/2015/01/01/netflix-friends/   \n",
       "\n",
       "                                            filename  \\\n",
       "0         everyone-in-management-is-a-programmer.txt   \n",
       "1  high-tech-or-hangover-watch-quake-on-an-oscill...   \n",
       "2   how-will-connectivity-need-to-evolve-in-2015.txt   \n",
       "3  montblanc-announces-a-smart-bracelet-for-your-...   \n",
       "4                                netflix-friends.txt   \n",
       "\n",
       "                                       related_links search_term  \\\n",
       "0  [https://www.relateiq.com/, http://www.shutter...  techcrunch   \n",
       "1                                                 []  techcrunch   \n",
       "2  [http://continuuminnovation.com/, https://soun...  techcrunch   \n",
       "3  [http://techcrunch.com/2014/12/30/the-kairos-t...  techcrunch   \n",
       "4  [https://twitter.com/hashtag/Friends?src=hash,...  techcrunch   \n",
       "\n",
       "             timestamp                                              title  \\\n",
       "0  2015-01-01 08:00:04             Everyone In Management Is A Programmer   \n",
       "1  2015-01-01 11:25:20  High Tech Or Hangover? Watch Quake On An Oscil...   \n",
       "2  2015-01-01 14:00:26               How Connectivity Will Need To Evolve   \n",
       "3  2015-01-01 12:04:22  Montblanc Announces A Smart Bracelet For Your ...   \n",
       "4  2015-01-01 06:24:48  The One Where Netflix Started Streaming All Te...   \n",
       "\n",
       "                                                 url  \\\n",
       "0  http://techcrunch.com/2015/01/01/everyone-in-m...   \n",
       "1  http://techcrunch.com/2015/01/01/high-tech-or-...   \n",
       "2  http://techcrunch.com/2015/01/01/how-will-conn...   \n",
       "3  http://techcrunch.com/2015/01/01/montblanc-ann...   \n",
       "4  http://techcrunch.com/2015/01/01/netflix-friends/   \n",
       "\n",
       "                                             content  \n",
       "0  Editors note:Adam Evans is the co-founder and ...  \n",
       "1  Head spinning? Stomach gurgling? Did you just ...  \n",
       "2  Editors note:Kevin Young is the senior vice pr...  \n",
       "3  What did I tell you? In a last-ditch effort to...  \n",
       "4  Christmas was about a week ago, but that doesn...  "
      ]
     },
     "execution_count": 4,
     "metadata": {},
     "output_type": "execute_result"
    }
   ],
   "source": [
    "#We get the following result\n",
    "DF.head()"
   ]
  },
  {
   "cell_type": "code",
   "execution_count": 43,
   "metadata": {
    "collapsed": false
   },
   "outputs": [
    {
     "data": {
      "text/plain": [
       "''"
      ]
     },
     "execution_count": 43,
     "metadata": {},
     "output_type": "execute_result"
    }
   ],
   "source": [
    "''"
   ]
  },
  {
   "cell_type": "code",
   "execution_count": null,
   "metadata": {
    "collapsed": true
   },
   "outputs": [],
   "source": []
  }
 ],
 "metadata": {
  "anaconda-cloud": {},
  "kernelspec": {
   "display_name": "Python 2",
   "language": "python",
   "name": "python2"
  },
  "language_info": {
   "codemirror_mode": {
    "name": "ipython",
    "version": 2
   },
   "file_extension": ".py",
   "mimetype": "text/x-python",
   "name": "python",
   "nbconvert_exporter": "python",
   "pygments_lexer": "ipython2",
   "version": "2.7.12"
  }
 },
 "nbformat": 4,
 "nbformat_minor": 0
}
