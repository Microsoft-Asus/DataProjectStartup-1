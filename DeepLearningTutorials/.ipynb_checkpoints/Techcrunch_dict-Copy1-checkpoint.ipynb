{
 "cells": [
  {
   "cell_type": "code",
   "execution_count": 3,
   "metadata": {
    "collapsed": false
   },
   "outputs": [],
   "source": [
    "import pandas as pd\n",
    "import json\n",
    "import numpy as np\n",
    "import anseri as ai"
   ]
  },
  {
   "cell_type": "code",
   "execution_count": 1,
   "metadata": {
    "collapsed": false
   },
   "outputs": [],
   "source": [
    "#import sys\n",
    "#sys.version"
   ]
  },
  {
   "cell_type": "code",
   "execution_count": 3,
   "metadata": {
    "collapsed": false
   },
   "outputs": [],
   "source": [
    "#import os #check directory\n",
    "#os.getcwd()"
   ]
  },
  {
   "cell_type": "code",
   "execution_count": 4,
   "metadata": {
    "collapsed": false
   },
   "outputs": [],
   "source": [
    "with open('/home/oliver/Desktop/anseri/LearnDataScience-master/1_Projekt/techcrunch/techcrunch/metadata_full.json') as files:\n",
    "    metadata = json.load(files) #with with open takes care with the closing of the file"
   ]
  },
  {
   "cell_type": "code",
   "execution_count": 5,
   "metadata": {
    "collapsed": false
   },
   "outputs": [],
   "source": [
    "#metadata"
   ]
  },
  {
   "cell_type": "code",
   "execution_count": 6,
   "metadata": {
    "collapsed": false
   },
   "outputs": [
    {
     "data": {
      "text/html": [
       "<div>\n",
       "<table border=\"1\" class=\"dataframe\">\n",
       "  <thead>\n",
       "    <tr style=\"text-align: right;\">\n",
       "      <th></th>\n",
       "      <th>author</th>\n",
       "      <th>filename</th>\n",
       "      <th>related_links</th>\n",
       "      <th>search_term</th>\n",
       "      <th>timestamp</th>\n",
       "      <th>title</th>\n",
       "      <th>url</th>\n",
       "      <th>content</th>\n",
       "    </tr>\n",
       "  </thead>\n",
       "  <tbody>\n",
       "    <tr>\n",
       "      <th>0</th>\n",
       "      <td>http://techcrunch.com/2015/01/01/everyone-in-m...</td>\n",
       "      <td>everyone-in-management-is-a-programmer.txt</td>\n",
       "      <td>[https://www.relateiq.com/, http://www.shutter...</td>\n",
       "      <td>techcrunch</td>\n",
       "      <td>2015-01-01 08:00:04</td>\n",
       "      <td>Everyone In Management Is A Programmer</td>\n",
       "      <td>http://techcrunch.com/2015/01/01/everyone-in-m...</td>\n",
       "      <td>Editors note:Adam Evans is the co-founder and ...</td>\n",
       "    </tr>\n",
       "  </tbody>\n",
       "</table>\n",
       "</div>"
      ],
      "text/plain": [
       "                                              author  \\\n",
       "0  http://techcrunch.com/2015/01/01/everyone-in-m...   \n",
       "\n",
       "                                     filename  \\\n",
       "0  everyone-in-management-is-a-programmer.txt   \n",
       "\n",
       "                                       related_links search_term  \\\n",
       "0  [https://www.relateiq.com/, http://www.shutter...  techcrunch   \n",
       "\n",
       "             timestamp                                   title  \\\n",
       "0  2015-01-01 08:00:04  Everyone In Management Is A Programmer   \n",
       "\n",
       "                                                 url  \\\n",
       "0  http://techcrunch.com/2015/01/01/everyone-in-m...   \n",
       "\n",
       "                                             content  \n",
       "0  Editors note:Adam Evans is the co-founder and ...  "
      ]
     },
     "execution_count": 6,
     "metadata": {},
     "output_type": "execute_result"
    }
   ],
   "source": [
    "df = pd.DataFrame(metadata)\n",
    "df = df.transpose()  #change rows and columns\n",
    "df = df.reset_index()\n",
    "\n",
    "df['url'] = df['index']\n",
    "del df['index']\n",
    "\n",
    "texts = []\n",
    "titles = df['filename']\n",
    "for title in titles:\n",
    "    path = '/home/oliver/Desktop/anseri/LearnDataScience-master/1_Projekt/techcrunch/techcrunch/' + title\n",
    "    with open(path) as data:\n",
    "        texts.append(data.read())\n",
    "df['content'] = pd.Series(texts)\n",
    "df.head()[0:1]\n"
   ]
  },
  {
   "cell_type": "code",
   "execution_count": 7,
   "metadata": {
    "collapsed": false
   },
   "outputs": [
    {
     "data": {
      "text/html": [
       "<div>\n",
       "<table border=\"1\" class=\"dataframe\">\n",
       "  <thead>\n",
       "    <tr style=\"text-align: right;\">\n",
       "      <th></th>\n",
       "      <th>timestamp</th>\n",
       "      <th>title</th>\n",
       "      <th>content</th>\n",
       "    </tr>\n",
       "  </thead>\n",
       "  <tbody>\n",
       "    <tr>\n",
       "      <th>0</th>\n",
       "      <td>2015-01-01 08:00:04</td>\n",
       "      <td>Everyone In Management Is A Programmer</td>\n",
       "      <td>Editors note:Adam Evans is the co-founder and ...</td>\n",
       "    </tr>\n",
       "  </tbody>\n",
       "</table>\n",
       "</div>"
      ],
      "text/plain": [
       "             timestamp                                   title  \\\n",
       "0  2015-01-01 08:00:04  Everyone In Management Is A Programmer   \n",
       "\n",
       "                                             content  \n",
       "0  Editors note:Adam Evans is the co-founder and ...  "
      ]
     },
     "execution_count": 7,
     "metadata": {},
     "output_type": "execute_result"
    }
   ],
   "source": [
    "#reduce to relevant info only\n",
    "df.drop('author', axis=1, inplace=True)\n",
    "df.drop('filename', axis=1, inplace=True)\n",
    "df.drop('related_links', axis=1, inplace=True)\n",
    "df.drop('search_term', axis=1, inplace=True)\n",
    "df.drop('url', axis=1, inplace=True)\n",
    "df.head()[0:1]"
   ]
  },
  {
   "cell_type": "code",
   "execution_count": 8,
   "metadata": {
    "collapsed": false,
    "scrolled": true
   },
   "outputs": [
    {
     "data": {
      "text/plain": [
       "(15047, 3)"
      ]
     },
     "execution_count": 8,
     "metadata": {},
     "output_type": "execute_result"
    }
   ],
   "source": [
    "df.shape"
   ]
  },
  {
   "cell_type": "code",
   "execution_count": 9,
   "metadata": {
    "collapsed": false
   },
   "outputs": [],
   "source": [
    "df['timestamp'] = df['timestamp'].apply(lambda x: str(x).split()[0])"
   ]
  },
  {
   "cell_type": "code",
   "execution_count": 10,
   "metadata": {
    "collapsed": false,
    "scrolled": true
   },
   "outputs": [
    {
     "data": {
      "text/html": [
       "<div>\n",
       "<table border=\"1\" class=\"dataframe\">\n",
       "  <thead>\n",
       "    <tr style=\"text-align: right;\">\n",
       "      <th></th>\n",
       "      <th>timestamp</th>\n",
       "      <th>title</th>\n",
       "      <th>content</th>\n",
       "    </tr>\n",
       "  </thead>\n",
       "  <tbody>\n",
       "    <tr>\n",
       "      <th>0</th>\n",
       "      <td>2015-01-01</td>\n",
       "      <td>Everyone In Management Is A Programmer</td>\n",
       "      <td>Editors note:Adam Evans is the co-founder and ...</td>\n",
       "    </tr>\n",
       "    <tr>\n",
       "      <th>1</th>\n",
       "      <td>2015-01-01</td>\n",
       "      <td>High Tech Or Hangover? Watch Quake On An Oscil...</td>\n",
       "      <td>Head spinning? Stomach gurgling? Did you just ...</td>\n",
       "    </tr>\n",
       "    <tr>\n",
       "      <th>2</th>\n",
       "      <td>2015-01-01</td>\n",
       "      <td>How Connectivity Will Need To Evolve</td>\n",
       "      <td>Editors note:Kevin Young is the senior vice pr...</td>\n",
       "    </tr>\n",
       "    <tr>\n",
       "      <th>3</th>\n",
       "      <td>2015-01-01</td>\n",
       "      <td>Montblanc Announces A Smart Bracelet For Your ...</td>\n",
       "      <td>What did I tell you? In a last-ditch effort to...</td>\n",
       "    </tr>\n",
       "  </tbody>\n",
       "</table>\n",
       "</div>"
      ],
      "text/plain": [
       "    timestamp                                              title  \\\n",
       "0  2015-01-01             Everyone In Management Is A Programmer   \n",
       "1  2015-01-01  High Tech Or Hangover? Watch Quake On An Oscil...   \n",
       "2  2015-01-01               How Connectivity Will Need To Evolve   \n",
       "3  2015-01-01  Montblanc Announces A Smart Bracelet For Your ...   \n",
       "\n",
       "                                             content  \n",
       "0  Editors note:Adam Evans is the co-founder and ...  \n",
       "1  Head spinning? Stomach gurgling? Did you just ...  \n",
       "2  Editors note:Kevin Young is the senior vice pr...  \n",
       "3  What did I tell you? In a last-ditch effort to...  "
      ]
     },
     "execution_count": 10,
     "metadata": {},
     "output_type": "execute_result"
    }
   ],
   "source": [
    "df.head()[0:4]"
   ]
  },
  {
   "cell_type": "code",
   "execution_count": 11,
   "metadata": {
    "collapsed": false
   },
   "outputs": [
    {
     "data": {
      "text/plain": [
       "list"
      ]
     },
     "execution_count": 11,
     "metadata": {},
     "output_type": "execute_result"
    }
   ],
   "source": [
    "contentcols = ['title','content']\n",
    "splitter = ai.data.database_controller.SentenceSplitter(contentcols)\n",
    "\n",
    "def fix_timestamps(source):\n",
    "    for row in source:\n",
    "        row['timestamp'] = int(row['timestamp'])\n",
    "        yield row\n",
    "\n",
    "#dict_techcrunch = splitter(fix_timestamps(x._asdict()) for x in df.itertuples(index=False))#doesnt work-->convert pandas dataframe to dictionary\n",
    "#2dict_techcrunch = df.set_index('timestamp').to_dict()\n",
    "dict_techcrunch = [{'timestamp':i[1].timestamp,'title':i[1].title,'content':i[1].content } for i in df.iterrows()]\n",
    "#dict_techcrunch = df.to_dict(orient='index')\n",
    "type(dict_techcrunch)\n"
   ]
  },
  {
   "cell_type": "code",
   "execution_count": 12,
   "metadata": {
    "collapsed": false
   },
   "outputs": [],
   "source": [
    "#contentcols = ['title','content']\n",
    "#splitter = ai.data.database_controller.SentenceSplitter(contentcols)\n",
    "#list(dict_techcrunch)"
   ]
  },
  {
   "cell_type": "code",
   "execution_count": 14,
   "metadata": {
    "collapsed": false
   },
   "outputs": [
    {
     "data": {
      "text/plain": [
       "<anseri.data.backends.sqlite.SQLiteController_FTS at 0x7eff345d3208>"
      ]
     },
     "execution_count": 14,
     "metadata": {},
     "output_type": "execute_result"
    }
   ],
   "source": [
    "dbname = 'techcrunch'\n",
    "dbpath = '~/.ai/data/{}.db'.format(dbname)\n",
    "contentcols = ['title','content']\n",
    "timecol = 'timestamp'\n",
    "\n",
    "#need to create a dictionnary based on the pandas dataframe\n",
    "#ai.data.backends.sqlite.SQLiteController_FTS.from_iterable(iterable=dict_techcrunch, dbpath=dbpath, contentcols=contentcols, timecol=timecol)\n",
    "#here we get an error related to the version of Anseri on the virtual machine"
   ]
  },
  {
   "cell_type": "code",
   "execution_count": 15,
   "metadata": {
    "collapsed": false
   },
   "outputs": [
    {
     "name": "stderr",
     "output_type": "stream",
     "text": [
      "2016-11-30 16:36:29,955 [MainThread  ] [INFO ]  CONFIG FILE: /home/oliver/.ai/config/techcrunch.cfg\n"
     ]
    }
   ],
   "source": [
    "ai.disable_progress()  # Suppress progress notifications for a cleaner notebook\n",
    "\n",
    "d = ai.Dataset(\"techcrunch\")"
   ]
  },
  {
   "cell_type": "code",
   "execution_count": 16,
   "metadata": {
    "collapsed": false
   },
   "outputs": [
    {
     "data": {
      "text/plain": [
       "15047"
      ]
     },
     "execution_count": 16,
     "metadata": {},
     "output_type": "execute_result"
    }
   ],
   "source": [
    "d.num_documents"
   ]
  },
  {
   "cell_type": "code",
   "execution_count": 17,
   "metadata": {
    "collapsed": false
   },
   "outputs": [],
   "source": [
    "selection = ai.AllSelection()"
   ]
  },
  {
   "cell_type": "code",
   "execution_count": 18,
   "metadata": {
    "collapsed": false
   },
   "outputs": [
    {
     "name": "stdout",
     "output_type": "stream",
     "text": [
      "('2015-01-01', '2016-06-06')\n"
     ]
    }
   ],
   "source": [
    "print(d.time_range) "
   ]
  },
  {
   "cell_type": "code",
   "execution_count": 19,
   "metadata": {
    "collapsed": false
   },
   "outputs": [],
   "source": [
    "model = d.load(selection)   # Load the sparse matrix model of corpus"
   ]
  },
  {
   "cell_type": "code",
   "execution_count": 21,
   "metadata": {
    "collapsed": false
   },
   "outputs": [
    {
     "name": "stdout",
     "output_type": "stream",
     "text": [
      "DOCIDS:[1, 2, 3]\n",
      "dict_keys(['title', 'docid', 'content', 'timestamp'])\n",
      "Title: \t\tEveryone In Management Is A Programmer\n",
      "Date: \t2015-01-01\n",
      "Content: \tEditors note:Adam Evans is the co-founder and CTO of RelateIQ.When it comes to the task of finding and nurturing great engineering managers, misunderstandings at startups are all too common. It seems that many people assume great engineers dont want to give up coding to take on leadership roles. To be clear, this is flat out wrong  and could create tremendous churn in your talent pool if you fail to recognize and elevate leaders in engineering as you would with any other team.But, you might argue, engineers are introverted, right? And they would rather ponder big problems than worry about resource allocation? And they arent really interested in business problems as much as tech problems, correct?The answer to all of these suppositions is Not really. All of these are just biases, or preconceived notions of what an engineer is like. We have some fantastically chatty engineers, and we have some quiet ones. We have some developers who would kill me if I asked them to do performance reviews, and some who genuinely enjoy coaching and mentoring as part of their jobs. It just depends.Engineers, like all other teammates within your organization, run the gamut in terms of interest and proclivity for management roles. Some, Ive found, just need a nudge to get there. They need you to frame the challenge in the right way to make it accessible to them.So heres my pitch to my engineering team: Anyone involved in management is a programmer. Being a leader within your organization requires you to master the art of motivating and coaching people, which isnt all that different from, say,programming a person.Sounds silly, I know, but think about it: As a programmer, your sole mission is to get a computer to do what you tell it to do  run the program the way you designed it to run. You spend all day trying to get that computer sitting across from you to follow your instructions. And its really stubborn. One bad keystroke and it doesnt listen to anything you say. Maybe this metaphor is becoming more clear to anyone who has had a challenging direct report in the past.There are major differences between programming computers and programming humans, of course, not the least of which is that some runtimes are much more volatile when youre programming people.Talking about programming humans really mimics how an engineer approaches a problem. Framing the management role in this way makes it instantly accessible, even to developers who never saw themselves enjoying management and thats something we can all agree is a welcome development.\n",
      "\n",
      "\n",
      "\n",
      "dict_keys(['title', 'docid', 'content', 'timestamp'])\n",
      "Title: \t\tHigh Tech Or Hangover? Watch Quake On An Oscilloscope\n",
      "Date: \t2015-01-01\n",
      "Content: \tHead spinning? Stomach gurgling? Did you just drink a Bloody Mary just to find some respite from your pounding gulliver? Why not take a look at Pekka Vnnens project, an attempt to play Quake on a Hitachi V-422 oscilloscope.Why? Because if it cant run Quake its not a true piece of technological hardware, thats why. But its pretty hard. To get the machine to display a comparatively complicated game, Vnnen had to simulate an oscilloscope in code and then learn how to program the Hitachi to move the ray across the screen.To actually display the images he had to output the results in audio format and got about 1,800 on the screen. You can even download some audio files to play the screens on your own workbench.\n",
      "\n",
      "\n",
      "\n",
      "dict_keys(['title', 'docid', 'content', 'timestamp'])\n",
      "Title: \t\tHow Connectivity Will Need To Evolve\n",
      "Date: \t2015-01-01\n",
      "Content: \tEditors note:Kevin Young is the senior vice president of product experience andEric Bogner is a principal at Continuum.Intelligent processing and awareness tools are providing sense-making capabilities, augmenting our ability to easily interpret data, and making information more accessible. These capabilities will allow a more frictionless relationship between us, our objects and environments.At the same time, were still in the formative stages of the connected era, and companies are trying to understand how to make connectivity meaningful for consumers. As a result, there is a proliferation of early-market products that make consumers question the value of connected products.Its also often articulated that individual gadgets exist somewhat independently, and a major concern for the value these products can bring to our lives lies in the fact that there is no common architecture or platform for developers to build on.Studies have also proven that IoT products wearables in particular  are often abandoned after six months.We dont expect the technology community to arrive at a standard common infrastructure in the coming year, but connectivity does need to evolve to ensure new and existing products stick around in 2015 and beyond.Better connecting IoT devices to each other, to their users, and to larger common populations will position them to stay relevant for consumers, which will in turn drive business return for their manufacturers.We see four ways connectivity must evolve in 2015.Smart IoT companies will build communities  on and offline. Communities provide advice, coaching and ongoing support. Going online to build networks isnt a new concept, as Facebook has proven for the last decade. Fitness wearable manufacturer Jawboneis exploring the social side of IoT by enabling companies to motivate their employees to be healthier by encouraging tracking results and friendly competition.Theyre building an in-person network to encourage healthy living  and ongoing use of their product. Growing networks provide fertile ground for ever-increasing real-time collaborations and translations, as well as multi-channel connections.Others will form partnerships. This yearsaw companies like Google realize there was an opportunity in healthcare diagnostics and Fitbit get more fashionable. Partnerships were formed by companies who saw the limit of their expertise and the benefit to acquiring additional capabilities through a development or licensing relationship.In 2015, IoT companies will leverage partnerships to access broader networks. New York insurance provider Oscar Health recently partnered with Misfit Wearables, and in January members will be able to connect their fitness trackers to the Oscar Health app and earn Amazon cash when they walk.Connected products need to encourage commitment through their design. Fitness trackers, health monitors, and even devices designed to enhance our daily lives (think: Oculus Rift) require some shifts in routine and changes in behavior. When Unilevers home beauty brand iluminage launched an Internet-connected laser intended to treat facial wrinkles in the home, they purposely leveraged a deliberate physical design. Early consumer research confirmed target users would be comfortable leaving the product on their bathroom counters because of its aesthetic appeal, and this repeated reminder encouraged use.Its also time to start thinking: being connected is not enough. Products will need to get smarter. They will learn and adapt to you. Theyll anticipate your behavior and become the concierge for your life, removing friction in your everyday work and life activities. Theyll be the ones offering advice and support to keep our lives fluid with style and ease. The result will be that content follows context, providing guidance and insight that adapt to our changing needs. Nest and driving mobile app Waze are starting to do this, but rely heavily on user data.Connectivity means devices can no longer stand on their own to provide value to their users. As the Internet of Things continues to pervade our lives, smart companies will build connections beyond synching products to databases. They will connect people to each other and will help us all live more seamless, integrated lives.\n",
      "\n",
      "\n",
      "\n"
     ]
    }
   ],
   "source": [
    "for doc in d.get_documents_by_id(list(selection.docids)[:3], fields=['title', 'content']):\n",
    "    print(doc.keys())\n",
    "    #if 'title' in doc.keys():\n",
    "    print(\"Title: \\t\\t{}\".format(doc['title']))\n",
    "    #elif 'date' in doc.keys():\n",
    "    print(\"Date: \\t{}\".format(doc['timestamp']))\n",
    "    #elif 'author' in doc.keys():\n",
    "    #print(\"Author: \\t{}\".format(doc['author']))\n",
    "    #else :\n",
    "    print(\"Content: \\t{}\".format(doc['content']))\n",
    "\n",
    "    print(\"\\n\\n\")"
   ]
  },
  {
   "cell_type": "code",
   "execution_count": 22,
   "metadata": {
    "collapsed": false
   },
   "outputs": [
    {
     "name": "stdout",
     "output_type": "stream",
     "text": [
      "n documents: 15,042\n",
      "m features: 15,645\n"
     ]
    }
   ],
   "source": [
    "n, m = model.shape     # Get details about shape of sparse matrix representation of content\n",
    "print(\"n documents: {:,}\".format(n))\n",
    "print(\"m features: {:,}\".format(m))"
   ]
  },
  {
   "cell_type": "code",
   "execution_count": 29,
   "metadata": {
    "collapsed": true
   },
   "outputs": [],
   "source": [
    "SPCA = ai.topicmodels.TopicModelSPCA(n_topics=16, #number of topics youre getting\n",
    "                                     card_terms=8, #subcategories/terms per category\n",
    "                                     card_docs=(n // 10),    # a good rule of thumb is to use 1 to 10% of documents\n",
    "                                     ignore_terms=[\"jan\", \"feb\", \"mar\", \"apr\", \"may\", \"jun\", \"jul\", \n",
    "                                                   \"aug\", \"sep\", \"oct\", \"nov\", \"dec\"]) "
   ]
  },
  {
   "cell_type": "code",
   "execution_count": 30,
   "metadata": {
    "collapsed": true
   },
   "outputs": [],
   "source": [
    "topics = SPCA(model, ignore_words=[\"jan\", \"feb\", \"mar\", \"apr\", \"may\", \"jun\", \"jul\", \"aug\", \"sep\", \"oct\", \"nov\", \"dec\"])  # Compute topics within the data model"
   ]
  },
  {
   "cell_type": "code",
   "execution_count": 31,
   "metadata": {
    "collapsed": false
   },
   "outputs": [
    {
     "name": "stdout",
     "output_type": "stream",
     "text": [
      "apple watch app: [apple, watch, app, iphone, music, ios, store, pay]\n",
      "---\n",
      "raises startup series: [raises, startup, series, platform, service, funding, led, mobile]\n",
      "---\n",
      "google launches android: [google, launches, android, search, apps, play, cloud, photos]\n",
      "---\n",
      "facebook tech video: [facebook, tech, video, messenger, live, users, ads, news]\n",
      "---\n",
      "techcrunch week stories: [techcrunch, week, stories, disrupt, podcast, bitcoin, tickets, london]\n",
      "---\n",
      "microsoft windows data: [microsoft, windows, data, build, big, twitter, office, surface]\n",
      "---\n",
      "startups fund day: [startups, fund, day, demo, meet, future, ventures, stage]\n",
      "---\n",
      "uber india china: [uber, india, china, business, amazon, company, rival, drivers]\n",
      "---\n",
      "online internet smart: [online, internet, smart, things, launch, time, acquires, rocket]\n",
      "---\n",
      "reality virtual augmented: [reality, virtual, augmented, gaming, oculus, real, headset, brings]\n",
      "---\n",
      "pitch radio sirius: [pitch, radio, sirius, meetup, coming, apply, offs, seattle]\n",
      "---\n",
      "year ceo ipo: [year, ceo, ipo, free, digital, social, round, adds]\n",
      "---\n",
      "security enterprise software: [security, enterprise, software, privacy, cyber, iot, world, announces]\n",
      "---\n",
      "demand delivery food: [demand, delivery, food, services, economy, postmates, based, bring]\n",
      "---\n",
      "revenue beats growth: [revenue, beats, growth, profit, eps, billion, expectations, earnings]\n",
      "---\n",
      "gillmor gang stock: [gillmor, gang, stock, medium, hold, dog, notification, verbal]\n"
     ]
    }
   ],
   "source": [
    "print(topics)    # TopicModel object has a convenient representation"
   ]
  },
  {
   "cell_type": "code",
   "execution_count": null,
   "metadata": {
    "collapsed": true
   },
   "outputs": [],
   "source": [
    "# Topics are defined as weighted collections of words. Weights can be found as follows:\n",
    "for t in topics:\n",
    "    print(t.weights)"
   ]
  },
  {
   "cell_type": "code",
   "execution_count": 32,
   "metadata": {
    "collapsed": false
   },
   "outputs": [
    {
     "name": "stdout",
     "output_type": "stream",
     "text": [
      "SHAPE SCORE: (15042, 1)\n",
      "DOCIDS:[6827, 10953, 3399, 3242, 3464, 11199, 8595, 4602, 6715, 977, 6235, 4125, 9481, 3035, 11197, 7352, 2033, 13293, 10759, 3413]\n",
      "Don’t Be Apple\n",
      "When Will We See A New Apple Watch?\n",
      "Say Hello To The Apple Watch\n",
      "What The Apple Watch Could Be\n",
      "Apple Boasts Over 3,500 Apple Watch Apps Already Available\n",
      "Apple TV And Apple Watch (Probably) Had A Big Quarter\n",
      "If Apple Made An Apple Watch Stand, It Would Be The Forté\n",
      "Apple Unveils The Apple Watch Native App SDK\n",
      "Study Says 80% Of Apple Watch Users Are Already Using Apple Pay\n",
      "Here’s How A To Do App Will Work On The Apple Watch\n",
      "Maybe There Doesn’t Need To Be An Apple Watch App For Everything\n",
      "Apple Watch Bands Show Up In Apple Retail Stores\n",
      "Apple Now Sells An Official $79 Apple Watch Dock\n",
      "What It’s Like To Try Out The Apple Watch In-Store\n",
      "Apple Releases Apple TV Update With New Podcasts App\n",
      "With The New Apple TV, Apple Is Getting Serious About Video Games\n",
      "Apple Drops The Price Of Apple TV To $69\n",
      "With EmoWatch your Apple Watch knows if you are :) or :(\n",
      "C-Way Is An Apple Watch For Kids\n",
      "Apple Watch Ad Philosophy\n",
      "SHAPE SCORE: (15042, 16)\n",
      "DOCIDS:[6827, 3399, 3242, 10953, 11199]\n",
      "DOCIDS:[6426, 3805, 3955, 10439, 1750]\n",
      "DOCIDS:[8920, 1392, 6071, 5904, 3506]\n",
      "DOCIDS:[8749, 342, 2561, 6973, 9194]\n",
      "DOCIDS:[6215, 5374, 1981, 4985, 1758]\n",
      "DOCIDS:[14841, 3559, 8163, 613, 5361]\n",
      "DOCIDS:[11717, 13958, 7190, 7226, 8082]\n",
      "DOCIDS:[1179, 11862, 8299, 4937, 4565]\n",
      "DOCIDS:[8910, 7908, 10771, 2215, 14943]\n",
      "DOCIDS:[10749, 7744, 10221, 14673, 10386]\n",
      "DOCIDS:[8697, 3081, 1205, 6035, 5425]\n",
      "DOCIDS:[3917, 11600, 13884, 13961, 5349]\n",
      "DOCIDS:[13519, 12905, 8127, 13018, 3107]\n",
      "DOCIDS:[3159, 11256, 7506, 14367, 10988]\n",
      "DOCIDS:[11309, 8616, 1094, 3467, 763]\n",
      "DOCIDS:[12504, 10352, 9934, 2432, 12139]\n",
      "TOPIC 1\n",
      "Don’t Be Apple\n",
      "Say Hello To The Apple Watch\n",
      "What The Apple Watch Could Be\n",
      "When Will We See A New Apple Watch?\n",
      "Apple TV And Apple Watch (Probably) Had A Big Quarter\n",
      "TOPIC 2\n",
      "Ad Tech Startup C1X Raises $5.1M\n",
      "Mobile Sales Startup Immediately Raises $2M\n",
      "Marketing Startup Percolate Raises $40M More\n",
      "Video Ad Startup Innovid Raises $27.5M\n",
      "PR Analytics Startup TrendKite Raises Another $5M\n",
      "TOPIC 3\n",
      "A Look At Who’s Down From Google\n",
      "Don’t Be Google\n",
      "Google Weans Itself Off Of Google+\n",
      "Google Knows What You Did Last Summer, Now Shows It To You In Google Maps\n",
      "Google Turns On Google Now Cards For 70 New Apps\n",
      "TOPIC 4\n",
      "When Facebook Knows You Better Than You Know Yourself\n",
      "Facebook Where? The Enterprise Reacts To Facebook At Work\n",
      "Facebook Will Now Let You Embed Facebook Videos On Other Sites\n",
      "Facebook’s M Is Not The Droid You’ve Been Looking For\n",
      "The POTUS Gets A Facebook Page\n",
      "TOPIC 5\n",
      "13 TechCrunch Stories You Don’t Want To Miss This Week\n",
      "11 TechCrunch Stories You Don’t Want To Miss This Week\n",
      "15 TechCrunch Stories You Don’t Want To Miss This Week\n",
      "12 TechCrunch Stories You Don’t Want To Miss This Week\n",
      "13 TechCrunch Stories You Don’t Want To Miss This Week\n",
      "TOPIC 6\n",
      "Microsoft confirms Microsoft Ventures VC arm, renames old one ‘Microsoft Accelerator’\n",
      "Microsoft’s New Browser Will Be Called Microsoft Edge\n",
      "The $249 New Microsoft Band Is Microsoft’s Answer To Smartwatches\n",
      "Here’s Everything That Went Down At Microsoft’s Windows 10 Event\n",
      "Here’s How Microsoft Will Release Windows 10\n",
      "TOPIC 7\n",
      "Startups Selling To Other Startups: A House Of Cards?\n",
      "Startups need to do due diligence, too\n",
      "500 Startups Closes Its Newest Fund with $85 Million\n",
      "500 Startups Announces A $30 Million Fund For Japan\n",
      "500 Startups Launches Another New Fund: 500 Istanbul\n",
      "TOPIC 8\n",
      "Will There Really Be An Uber For Everything?\n",
      "Uber, Uber Alles? Not In Europe\n",
      "How Do You Value A Company Like Uber?\n",
      "So, About That Uber Ruling\n",
      "InboxVudu And The Uber That Got Away\n",
      "TOPIC 9\n",
      "Will AI Be Smart Enough To Protect Us From Online Threats?\n",
      "Online Content Manager Acquia Raises $55 Million For Online Customer Relationships\n",
      "Nest’s Smart Home Apps Are Back Online Following Outages\n",
      "Seinfeld Will Be Streamable Online Soon, Hopefully\n",
      "In defense of online lending\n",
      "TOPIC 10\n",
      "The Value In Virtual And Augmented Reality\n",
      "Virtual Reality Goes Beyond Gaming\n",
      "Getting Real About Virtual Reality\n",
      "The reality of augmented and virtual reality venture capital\n",
      "Pinball In Virtual Reality? Yes Please\n",
      "TOPIC 11\n",
      "Pitch Your Startup In The TC Radio Pitch-Off On Sirius XM\n",
      "Pitch Your Startup In The TC Radio Pitch-Off On Sirius XM\n",
      "Pitch Your Startup In The TC Radio Pitch-Off On Sirius XM\n",
      "Pitch Your Startup In The TC Radio Pitch-Off On Sirius XM\n",
      "Pitch Your Startup In The TC Radio Pitch-Off On Sirius XM\n",
      "TOPIC 12\n",
      "Parrot’s Drone Revenues Were Up 356% Year-Over-Year\n",
      "AngelList Raised $163M For Startups in 2015, Up 56% Year-Over-Year\n",
      "Global smartphone market shrinks, year over year\n",
      "Here’s why we only did three deals last year\n",
      "Xiaomi Sold 34.7M Smartphones In First Half Of 2015, Up 33% Year-On-Year\n",
      "TOPIC 13\n",
      "Making sense of enterprise security\n",
      "Software security needs a new perspective\n",
      "Duo Security Gives IT Visibility Into Every Enterprise Device\n",
      "Protecting identity could be key to enterprise security\n",
      "Illumio Raises $100M More For Enterprise Security That Goes Beyond The Firewall\n",
      "TOPIC 14\n",
      "On-Demand Food Delivery Service Sprig Has Raised $45 Million\n",
      "Deliverd Offers Another Take On The On-Demand Food Delivery Idea\n",
      "Postmates And Walgreens Team Up For On-Demand Delivery\n",
      "Chat app Line begins offering delivery on-demand services\n",
      "More Money For India’s On-Demand Economy: Swiggy Raises $35M For Food Delivery\n",
      "TOPIC 15\n",
      "Microsoft Beats On Strong Cloud Revenue With $25.7B Revenue, $0.78 EPS\n",
      "VMWare Beats Expectations With $1.02 EPS, $1.67B In Revenue\n",
      "LinkedIn Beats In Q4 With $643M In Revenue, EPS Of $0.61\n",
      "Apple Beats In Q2 2015 With $58B Revenue, $13.6B Profit And $2.33 EPS\n",
      "Apple Beats In Q1 2015 With $74.6B Revenue, $18B Profit And $3.06 EPS\n",
      "TOPIC 16\n",
      "Gillmor Gang: Getting Better\n",
      "Gillmor Gang: Enough Already\n",
      "Gillmor Gang LIVE 12.04.15\n",
      "Gillmor Gang LIVE 03.20.15\n",
      "Gillmor Gang: Poorly Educated\n"
     ]
    }
   ],
   "source": [
    "# Get strongest examples of a single topic\n",
    "for row in ai.topicmodels.TopicDocumentRecommendation(topics[0], model, n_docs=20):\n",
    "    if 'title' in row.keys():\n",
    "        print(row['title'])\n",
    "\n",
    "# Get strongest examples of each topic in a collection of topics\n",
    "recommendations = ai.topicmodels.TopicDocumentRecommendation(topics, model, n_docs=5)\n",
    "for i, topicdocs in enumerate(recommendations):\n",
    "    print(\"TOPIC {}\".format(i+1))\n",
    "    for row in topicdocs:\n",
    "        if 'title' in row.keys():\n",
    "            print(row['title'])"
   ]
  },
  {
   "cell_type": "code",
   "execution_count": 34,
   "metadata": {
    "collapsed": false
   },
   "outputs": [
    {
     "name": "stdout",
     "output_type": "stream",
     "text": [
      "apple watch app: [apple, watch, app, iphone, music, ios, store, pay]\n"
     ]
    }
   ],
   "source": [
    "#Subtopics\n",
    "selected_topic = 0\n",
    "print(topics[selected_topic])"
   ]
  },
  {
   "cell_type": "code",
   "execution_count": 35,
   "metadata": {
    "collapsed": true
   },
   "outputs": [],
   "source": [
    "# TopicSelection defines a topic \"mention\" based on a threshold of topic strength,\n",
    "# either 'abs' for a concrete value threshold, or 'quantile' to specify a minimum quantile threshold\n",
    "# Then, all documents \"mentioning\" the given topic are selected.\n",
    "\n",
    "subtopic_sel = ai.topicmodels.TopicSelection(topics[selected_topic], thresh='quantile', thresh_val=20.)\n",
    "subtopic_sel(model)    # Make the selection concrete by passing in the model"
   ]
  },
  {
   "cell_type": "code",
   "execution_count": 36,
   "metadata": {
    "collapsed": true
   },
   "outputs": [],
   "source": [
    "submodel = model[subtopic_sel]    # Data models can be sliced by a selection"
   ]
  },
  {
   "cell_type": "code",
   "execution_count": 37,
   "metadata": {
    "collapsed": false
   },
   "outputs": [
    {
     "name": "stdout",
     "output_type": "stream",
     "text": [
      "messaging wechat yahoo: [messaging, wechat, yahoo, founder, email, livetext, text, firm]\n",
      "---\n",
      "event ipad press: [event, ipad, press, pro, applecast, today, invites, developers]\n",
      "---\n",
      "chat kik encrypted: [chat, kik, encrypted, introduces, tango, connect, bot, isis]\n",
      "---\n",
      "sales iphones mac: [sales, iphones, mac, releases, sells, yoy, boost, top]\n",
      "---\n",
      "sharing streaming photo: [sharing, streaming, photo, youtube, friends, support, dedicated, features]\n",
      "---\n",
      "buy car phone: [buy, car, phone, beepi, selling, sell, lease, august]\n",
      "---\n",
      "dating tinder shopping: [dating, tinder, shopping, love, judge, blinq, hotness, league]\n",
      "---\n",
      "fbi hearing encryption: [fbi, hearing, encryption, congressional, san, update, spar, bernardino]\n",
      "---\n",
      "macbook inch updates: [macbook, inch, updates, starting, air, reinvented, existing, explains]\n",
      "---\n",
      "tim cook paid: [tim, cook, paid, latest, paying, april, hybrid, ships]\n",
      "---\n",
      "market smartphone share: [market, smartphone, share, samsung, keyboard, continuing, strengthen, videos]\n",
      "---\n",
      "development design web: [development, design, web, native, beta, hurt, improvement, todoist]\n",
      "---\n",
      "touch remote redesign: [touch, remote, redesign, input, friendly, navigation, explores, devices]\n",
      "---\n",
      "rolls analytics creators: [rolls, analytics, creators, soundcloud, betas, platforms, airbnb, flurry]\n",
      "---\n",
      "track favorite places: [track, favorite, places, mapstr, nifty, maps, directions, steps]\n",
      "---\n",
      "lands work prime: [lands, work, prime, twin, plex, sequoia, grow, countries]\n"
     ]
    }
   ],
   "source": [
    "subtopics = SPCA(submodel, ignore_words=[k for t in topics for k in t.features])   # ignore words from already discovered topics\n",
    "print(subtopics)"
   ]
  },
  {
   "cell_type": "code",
   "execution_count": 40,
   "metadata": {
    "collapsed": false
   },
   "outputs": [
    {
     "name": "stdout",
     "output_type": "stream",
     "text": [
      "-1.0\n",
      "1.0\n"
     ]
    }
   ],
   "source": [
    "lma = ai.linearmodels.LinearModelRS(rho=0.001)\n",
    "\n",
    "# What is the difference between Iraq and Iran?\n",
    "pos_sel = ai.FeatureSelection(\"apple\") - ai.FeatureSelection(\"encryption\")\n",
    "neg_sel = ai.FeatureSelection(\"encryption\") - ai.FeatureSelection(\"apple\")\n",
    "d.select(pos_sel)\n",
    "d.select(neg_sel)\n",
    "model = d.load(pos_sel + neg_sel)\n",
    "classvec = model.get_classification_vector({1.: pos_sel, -1.: neg_sel})\n",
    "print(np.min(classvec.data))\n",
    "print(np.max(classvec.data))\n",
    "\n",
    "selection_map = {1: pos_sel, -1: neg_sel}\n",
    "selection_map = [(s, v) for v, s in iter(selection_map.items())]\n",
    "\n",
    "# ignore words: iraq, iran\n",
    "model._mat = ai.data_conditioning.remove_cols(model.mat, model.feature_id_to_col(d.get_feature_ids(['apple', 'encryption'])))\n",
    "# Compute the solution\n",
    "linear_model = lma(model, classvec)"
   ]
  },
  {
   "cell_type": "code",
   "execution_count": 41,
   "metadata": {
    "collapsed": true
   },
   "outputs": [],
   "source": [
    "v = np.argsort(np.array(linear_model.params).ravel())[::-1][:20]   # Get the top 20 "
   ]
  },
  {
   "cell_type": "code",
   "execution_count": 42,
   "metadata": {
    "collapsed": true
   },
   "outputs": [],
   "source": [
    "z = d.get_features_by_id(model.col_to_feature_id(v))"
   ]
  },
  {
   "cell_type": "code",
   "execution_count": 43,
   "metadata": {
    "collapsed": false
   },
   "outputs": [
    {
     "name": "stdout",
     "output_type": "stream",
     "text": [
      "app\n",
      "watch\n",
      "launches\n",
      "raises\n",
      "mobile\n",
      "startup\n",
      "google\n",
      "service\n",
      "facebook\n",
      "ios\n",
      "uber\n",
      "china\n",
      "android\n",
      "video\n",
      "tech\n",
      "news\n",
      "apps\n",
      "platform\n",
      "streaming\n",
      "series\n"
     ]
    }
   ],
   "source": [
    "for k in z:\n",
    "    print(k)"
   ]
  },
  {
   "cell_type": "code",
   "execution_count": 50,
   "metadata": {
    "collapsed": false
   },
   "outputs": [
    {
     "name": "stderr",
     "output_type": "stream",
     "text": [
      "/home/oliver/Desktop/anseri/lib/python3.5/site-packages/ipykernel/__main__.py:12: VisibleDeprecationWarning: using a non-integer number instead of an integer will result in an error in the future\n"
     ]
    }
   ],
   "source": [
    "# What are the image words for \"apple\" in the news?\n",
    "lma = ai.linearmodels.LinearModelRS(rho=0.0001)\n",
    "pos_sel = ai.FeatureSelection(\"apple\")\n",
    "neg_sel = ai.AllSelection() - ai.FeatureSelection(\"apple\")\n",
    "d.select(pos_sel)\n",
    "d.select(neg_sel)\n",
    "model = d.load(ai.AllSelection())\n",
    "classvec = model.get_classification_vector({1.: pos_sel, -1.: neg_sel})\n",
    "selection_map = {1: pos_sel, -1: neg_sel}\n",
    "selection_map = [(s, v) for v, s in iter(selection_map.items())]\n",
    "# ignore words: tinder\n",
    "model._mat = ai.data_conditioning.remove_cols(model.mat, model.feature_id_to_col(d.get_feature_ids(['tinder'])))\n",
    "# Compute the solution\n",
    "linear_model = lma(model, classvec)\n",
    "v = np.argsort(np.array(linear_model.params).ravel())[::-1][:20]   # Get the top 20 \n",
    "z = d.get_features_by_id(model.col_to_feature_id(v))"
   ]
  },
  {
   "cell_type": "code",
   "execution_count": 47,
   "metadata": {
    "collapsed": false
   },
   "outputs": [
    {
     "name": "stdout",
     "output_type": "stream",
     "text": [
      "bands: 0.0028\n",
      "album: 0.002\n",
      "applecast: 0.0019\n",
      "healthtap: 0.0018\n",
      "experiencing: 0.0017\n",
      "songza: 0.0014\n",
      "kanye: 0.0014\n",
      "logic: 0.0013\n",
      "adjustment: 0.0012\n",
      "dre: 0.0011\n",
      "lux: 0.0011\n",
      "knock: 0.001\n",
      "billing: 0.00098\n",
      "layout: 0.00097\n",
      "crimea: 0.00096\n",
      "vevo: 0.00096\n",
      "hermès: 0.00096\n",
      "reservation: 0.00096\n",
      "guns: 0.00094\n",
      "adjusts: 0.00093\n"
     ]
    }
   ],
   "source": [
    "for k, w in zip(z, np.array(linear_model.params).ravel()[v]):\n",
    "    print(\"{k}: {w:.2}\".format(k=k, w=w))"
   ]
  },
  {
   "cell_type": "code",
   "execution_count": null,
   "metadata": {
    "collapsed": true
   },
   "outputs": [],
   "source": []
  }
 ],
 "metadata": {
  "anaconda-cloud": {},
  "kernelspec": {
   "display_name": "Python 2",
   "language": "python",
   "name": "python2"
  },
  "language_info": {
   "codemirror_mode": {
    "name": "ipython",
    "version": 2
   },
   "file_extension": ".py",
   "mimetype": "text/x-python",
   "name": "python",
   "nbconvert_exporter": "python",
   "pygments_lexer": "ipython2",
   "version": "2.7.12"
  }
 },
 "nbformat": 4,
 "nbformat_minor": 1
}
