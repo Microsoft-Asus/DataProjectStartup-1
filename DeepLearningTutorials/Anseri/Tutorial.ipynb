{
 "cells": [
  {
   "cell_type": "markdown",
   "metadata": {},
   "source": [
    "# Anseri Topic Analysis Tutorial"
   ]
  },
  {
   "cell_type": "markdown",
   "metadata": {},
   "source": [
    "## 0. Open a dataset"
   ]
  },
  {
   "cell_type": "markdown",
   "metadata": {},
   "source": [
    " ### Dataset Format:"
   ]
  },
  {
   "cell_type": "code",
   "execution_count": null,
   "metadata": {
    "collapsed": true
   },
   "outputs": [],
   "source": [
    "#The recommended approach is to let anseri create and format the SQLite database.\n",
    "#The developer just needs to be able to convert their data source into an iterable collection of dicts, \n",
    "#where each dict has the same keys, and the keys will correspond to columns in a database table. \n",
    "\n",
    "#FOR NOW call:\n",
    "\n",
    "def from_iterable(cls, iterable, dbname, dbpath, contentcols, timecol):\n",
    "   \"\"\"Create new database\n",
    "\n",
    "   Only allows for single-valued attributes for now.\n",
    "\n",
    "   Args:\n",
    "       timecol: Name of column containing timestamps, or None.\n",
    "       dbname: Name of dataset\n",
    "       dbpath: Path to the database, where it should be created\n",
    "       iterable: Iterable data source, should be a sequence of dicts.\n",
    "       contentcols: Names of columns containing text content to be analyzed.\n",
    "\n",
    "   Returns:\n",
    "       :py:class:`SQLiteController_FTS`: Instantiated raw content database backend\n",
    "   \"\"\"\n",
    "\n",
    "#Alternatively, you can convert a pandas dataframe into a database:\n",
    "\n",
    "def from_dataframe(cls, df, dbname, dbpath, contentcols, timecol, dateformat=None, splitter=None):\n",
    "   \"\"\"\n",
    "   Import a pandas dataframe into an sqlite database table.\n",
    "\n",
    "   Args:\n",
    "       df (pandas.DataFrame): dataframe\n",
    "       dbname (str): name of dataset\n",
    "       dbpath (str): path to database, where it should be created\n",
    "       contentcols (str | list[str]): names of columns containing content to be analyzed\n",
    "       timecol (str | None): name of column containing timestamps, or None. If None, will detect\n",
    "           column named 'time' or 'date'.\n",
    "\n",
    "\n",
    "       dateformat (str): format used to parse date to convert to unix timestamps\n",
    "       splitter: `anseri` Content splitter, optionally split columns by sentence.\n",
    "\n",
    "\n",
    "   Returns:\n",
    "       :py:class:`SQLiteController_FTS`:  Instantiated raw content database backend\n",
    "   \"\"\"\n",
    "#Splitters allow content to be broken up by sentence or fixed word-length windows. \n",
    "#These are classes defined in DatabaseController.pyx, and documentation should show up in the API docs. \n",
    "#Splitters accept iterables and are themselves iterable, \n",
    "#so they can be used with the from_iterable function as well.\n",
    "\n",
    "#Database format:\n",
    "\n",
    "#The sqlite db should contain a table named data, with at least three columns:\n",
    "#content (string)\n",
    "#title (string)\n",
    "#time (int)\n",
    "\n"
   ]
  },
  {
   "cell_type": "markdown",
   "metadata": {},
   "source": [
    "### Start here:"
   ]
  },
  {
   "cell_type": "code",
   "execution_count": 1,
   "metadata": {
    "collapsed": false
   },
   "outputs": [
    {
     "name": "stderr",
     "output_type": "stream",
     "text": [
      "2016-12-07 20:10:01,675 [MainThread  ] [INFO ]  CONFIG FILE: /home/gabriel/.ai/config/aljazeera.cfg\n"
     ]
    }
   ],
   "source": [
    "import anseri as ai\n",
    "import numpy as np  \n",
    "\n",
    "ai.disable_progress()  # Suppress progress notifications for a cleaner notebook\n",
    "\n",
    "#import a sql dataset\n",
    "d = ai.Dataset(\"aljazeera\")"
   ]
  },
  {
   "cell_type": "markdown",
   "metadata": {},
   "source": [
    "## 1. Select Data\n",
    "\n",
    "### Select ALL"
   ]
  },
  {
   "cell_type": "code",
   "execution_count": 3,
   "metadata": {
    "collapsed": false
   },
   "outputs": [],
   "source": [
    "#Select all the dataset\n",
    "selection = ai.AllSelection()"
   ]
  },
  {
   "cell_type": "markdown",
   "metadata": {},
   "source": [
    "### Select by time window"
   ]
  },
  {
   "cell_type": "code",
   "execution_count": 4,
   "metadata": {
    "collapsed": false
   },
   "outputs": [
    {
     "name": "stdout",
     "output_type": "stream",
     "text": [
      "(1300233600, 1361836800)\n",
      "['Mar 16 2011', 'Feb 26 2013']\n"
     ]
    }
   ],
   "source": [
    "print(d.time_range)   # Get the unix timestamps of the min/max times of entries in database\n",
    "print([ai.utc.mth(x) for x in d.time_range])   # Get human-readable representation of timestamps (mth = machine-to-human)"
   ]
  },
  {
   "cell_type": "code",
   "execution_count": 5,
   "metadata": {
    "collapsed": true
   },
   "outputs": [],
   "source": [
    "selection = ai.TimeSelection(('Mar 1 2012', 'Jan 2 2013'))   # Time windows specified human-readable\n",
    "selection = ai.TimeSelection((1300233600, 1350000000))  # Time windows specified machine-readable"
   ]
  },
  {
   "cell_type": "markdown",
   "metadata": {},
   "source": [
    "### Attribute Selection"
   ]
  },
  {
   "cell_type": "markdown",
   "metadata": {
    "collapsed": true
   },
   "source": [
    "The aljazeera dataset has no defined data attributes apart from time. \n",
    "\n",
    "If the dataset had a column defined as an attribute, named \"author\", you could select documents authored by \"Marwan Bishara\" as follows:"
   ]
  },
  {
   "cell_type": "code",
   "execution_count": 6,
   "metadata": {
    "collapsed": true
   },
   "outputs": [],
   "source": [
    "# selection = ai.AttributeSelection(\"author\", [\"Marwan Bishara\"])"
   ]
  },
  {
   "cell_type": "markdown",
   "metadata": {},
   "source": [
    "### Full-text Search"
   ]
  },
  {
   "cell_type": "code",
   "execution_count": 7,
   "metadata": {
    "collapsed": true
   },
   "outputs": [],
   "source": [
    "selection = ai.FullTextSelection(\"iraq war\")    # full text search with fuzzy matching"
   ]
  },
  {
   "cell_type": "markdown",
   "metadata": {},
   "source": [
    "### Select by keyword (feature) mention"
   ]
  },
  {
   "cell_type": "code",
   "execution_count": 8,
   "metadata": {
    "collapsed": true
   },
   "outputs": [],
   "source": [
    "selection = ai.FeatureSelection(\"iraq\")"
   ]
  },
  {
   "cell_type": "markdown",
   "metadata": {},
   "source": [
    "## 2. Load data matching selection"
   ]
  },
  {
   "cell_type": "code",
   "execution_count": 9,
   "metadata": {
    "collapsed": true
   },
   "outputs": [],
   "source": [
    "model = d.load(selection)   # Load the sparse matrix model of corpus"
   ]
  },
  {
   "cell_type": "code",
   "execution_count": 10,
   "metadata": {
    "collapsed": false
   },
   "outputs": [
    {
     "data": {
      "text/plain": [
       "193"
      ]
     },
     "execution_count": 10,
     "metadata": {},
     "output_type": "execute_result"
    }
   ],
   "source": [
    "#length of documents\n",
    "len(selection.docids)   # selection.docids contain references to documents matching selection"
   ]
  },
  {
   "cell_type": "markdown",
   "metadata": {},
   "source": [
    "### Load Raw Content from Database"
   ]
  },
  {
   "cell_type": "code",
   "execution_count": 11,
   "metadata": {
    "collapsed": false
   },
   "outputs": [
    {
     "name": "stdout",
     "output_type": "stream",
     "text": [
      "DOCIDS:[12802, 11276, 11789]\n",
      "dict_keys(['time', 'source', 'url', 'meta', 'location', 'title', 'docid', 'content'])\n",
      "Title: \t\tIraq Sunnis rally against Shia-led government\n",
      "\n",
      "\n",
      "\n",
      "dict_keys(['time', 'source', 'url', 'meta', 'location', 'title', 'docid', 'content'])\n",
      "Title: \t\tIraqi minister says arms deal 'not cancelled'\n",
      "\n",
      "\n",
      "\n",
      "dict_keys(['time', 'source', 'url', 'meta', 'location', 'title', 'docid', 'content'])\n",
      "Title: \t\tUS blacklists Syrian rebel group al-Nusra\n",
      "\n",
      "\n",
      "\n"
     ]
    }
   ],
   "source": [
    "for doc in d.get_documents_by_id(list(selection.docids)[:3], fields=['title', 'content']):\n",
    "    print(doc.keys())\n",
    "    if 'title' in doc.keys():\n",
    "        print(\"Title: \\t\\t{}\".format(doc['title']))\n",
    "    else:\n",
    "        print(\"Content: \\t{}\".format(doc['content']))\n",
    "\n",
    "    print(\"\\n\\n\")"
   ]
  },
  {
   "cell_type": "code",
   "execution_count": 12,
   "metadata": {
    "collapsed": false
   },
   "outputs": [
    {
     "name": "stdout",
     "output_type": "stream",
     "text": [
      "dict_keys(['time', 'source', 'url', 'meta', 'location', 'title', 'docid', 'content'])\n"
     ]
    }
   ],
   "source": [
    "print(doc.keys())    # Get the names of available fields in content"
   ]
  },
  {
   "cell_type": "code",
   "execution_count": 13,
   "metadata": {
    "collapsed": false
   },
   "outputs": [
    {
     "name": "stdout",
     "output_type": "stream",
     "text": [
      "n documents: 193\n",
      "m features: 3,061\n"
     ]
    }
   ],
   "source": [
    "n, m = model.shape     # Get details about shape of sparse matrix representation of content\n",
    "print(\"n documents: {:,}\".format(n))\n",
    "print(\"m features: {:,}\".format(m))"
   ]
  },
  {
   "cell_type": "markdown",
   "metadata": {},
   "source": [
    "## 3. Get Topics"
   ]
  },
  {
   "cell_type": "code",
   "execution_count": 14,
   "metadata": {
    "collapsed": false
   },
   "outputs": [],
   "source": [
    "# Instantiate the algorithm\n",
    "# ignore_terms injects extra stop-words at runtime\n",
    "\n",
    "SPCA = ai.topicmodels.TopicModelSPCA(n_topics=16, \n",
    "                                     card_terms=8, \n",
    "                                     card_docs=(n // 10),    # a good rule of thumb is to use 1 to 10% of documents\n",
    "                                     ignore_terms=[\"gen\", \"jan\", \"feb\", \"mar\", \"apr\", \"may\", \"jun\", \"jul\", \n",
    "                                                   \"aug\", \"sep\", \"oct\", \"nov\", \"dec\"])   "
   ]
  },
  {
   "cell_type": "code",
   "execution_count": 15,
   "metadata": {
    "collapsed": false
   },
   "outputs": [],
   "source": [
    "topics = SPCA(model, ignore_words=[\"gen\", \"jan\", \"feb\", \"mar\", \"apr\", \"may\", \"jun\", \"jul\", \n",
    "                                                   \"aug\", \"sep\", \"oct\", \"nov\", \"dec\"])  # Compute topics within the data model"
   ]
  },
  {
   "cell_type": "code",
   "execution_count": 16,
   "metadata": {
    "collapsed": false
   },
   "outputs": [
    {
     "name": "stdout",
     "output_type": "stream",
     "text": [
      "police people sunday: [police, people, sunday, man, wounding, government, region, fire]\n",
      "---\n",
      "authorities country warned: [authorities, country, warned, cyclone, security, monday, forces, south]\n",
      "---\n",
      "troops afghan killed: [troops, afghan, killed, army, nato, fighters, village, coalition]\n",
      "---\n",
      "president free putin: [president, free, putin, march, protest, presidential, victory, attended]\n",
      "---\n",
      "tuesday company control: [tuesday, company, control, news, minister, international, newspaper, announced]\n",
      "---\n",
      "saudi group arabia: [saudi, group, arabia, rights, anti, amnesty, organisation, law]\n",
      "---\n",
      "official city capital: [official, city, capital, aden, mansoura, khalidi, highway, gathered]\n",
      "---\n",
      "told election technical: [told, election, technical, libya, july, saturday, conference, day]\n",
      "---\n",
      "court case year: [court, case, year, special, ruling, military, collapse, taking]\n",
      "---\n",
      "state storm iraq: [state, storm, iraq, coast, america, destructive, calamity, struck]\n",
      "---\n",
      "syrian wednesday human: [syrian, wednesday, human, qahtania, observatory, reported, activist, northern]\n",
      "---\n",
      "syria protests jazeera: [syria, protests, jazeera, events, close, london, greece, world]\n",
      "---\n",
      "israeli factor controversy: [israeli, factor, controversy, town, public, bitter, secularists, ultra]\n",
      "---\n",
      "bahrain thursday statement: [bahrain, thursday, statement, death, protesters, clashes, died, custody]\n",
      "---\n",
      "parliament opposition seats: [parliament, opposition, seats, kuwait, elections, months, largest, minority]\n",
      "---\n",
      "prison dead hours: [prison, dead, hours, inmates, officials, dispute, left, lasted]\n"
     ]
    }
   ],
   "source": [
    "print(topics)    # TopicModel object has a convenient representation"
   ]
  },
  {
   "cell_type": "code",
   "execution_count": 17,
   "metadata": {
    "collapsed": false
   },
   "outputs": [
    {
     "name": "stdout",
     "output_type": "stream",
     "text": [
      "(0.43987543886053287, 0.16135492030010024, 0.081614188961369932, 0.069195771551227178, 0.068277589993257087, 0.062424893018241806, 0.061976737518494703, 0.055280459796776205)\n",
      "(0.32373129752141483, 0.15458006486453921, 0.12155516609939153, 0.11557446612101027, 0.075836923461567854, 0.075097925410003291, 0.06811368921552477, 0.065510467306548234)\n",
      "(0.23670078458539806, 0.18001495931627137, 0.11557741617425035, 0.11399443600735484, 0.10243402907015549, 0.087713377684911428, 0.086238677994135718, 0.077326319167522611)\n",
      "(0.2052969677801823, 0.14859840531110766, 0.1291993781820866, 0.10733279924363351, 0.10733279924363351, 0.10694230149406239, 0.10435608227851084, 0.09094126646678323)\n",
      "(0.33027794462335425, 0.15415144734695396, 0.11262263272299203, 0.093226517829891109, 0.084421468300163074, 0.08305788285091581, 0.07151415310358307, 0.0707279532221467)\n",
      "(0.24266940530128109, 0.16671756493599579, 0.13360872842932917, 0.12005156472885908, 0.086403191703952553, 0.084608808891324633, 0.083753135099706694, 0.082187600909551087)\n",
      "(0.29572318942750869, 0.14651575685995211, 0.12916618651824571, 0.08784417129549979, 0.08784417129549979, 0.08784417129549979, 0.085455927845216967, 0.079606425462577055)\n",
      "(0.22715631494373426, 0.14783817955914988, 0.12312748703511844, 0.12004122923916284, 0.1025016828724523, 0.10107146829080686, 0.09712201417005048, 0.081141623889524991)\n",
      "(0.2442267262936251, 0.1427661332362482, 0.13414027122575234, 0.12448445644510821, 0.11364224500701281, 0.097360595708349582, 0.076249590916296142, 0.067129981167607572)\n",
      "(0.17922626474685391, 0.1491257016460617, 0.14069269351285485, 0.13006071856116577, 0.10836111786675662, 0.10259546956432063, 0.094969017050993212, 0.094969017050993212)\n",
      "(0.2845286195207119, 0.15251520678507746, 0.1024897610884883, 0.10020815697667801, 0.095221231997782929, 0.0900645639072611, 0.0900645639072611, 0.084907895816739298)\n",
      "(0.17352410640542121, 0.15722357685304889, 0.11905078743093475, 0.11700146675896465, 0.11499263347648625, 0.11111903862454672, 0.10585605423383372, 0.10123233621676382)\n",
      "(0.25719148078251408, 0.19397171649166772, 0.11638302989500064, 0.10066886848893807, 0.099018844551878121, 0.077588686596667095, 0.077588686596667095, 0.077588686596667095)\n",
      "(0.1606232567194508, 0.14308801615861452, 0.12211886421583547, 0.12021722730005895, 0.1178494495961797, 0.11764008469099789, 0.10963793275875609, 0.10882516856010646)\n",
      "(0.21275698519970976, 0.18948168162108808, 0.12168935909066549, 0.12168935909066549, 0.11259536202501302, 0.087656244456108201, 0.079429629287463416, 0.074701379229286435)\n",
      "(0.22327061617825586, 0.13659149501767445, 0.12721948413578987, 0.12664074642934475, 0.10486308086014069, 0.095590188108731419, 0.094554158233906824, 0.091270231036156141)\n"
     ]
    }
   ],
   "source": [
    "# Topics are defined as weighted collections of words. Weights can be found as follows:\n",
    "for t in topics:\n",
    "    print(t.weights)"
   ]
  },
  {
   "cell_type": "markdown",
   "metadata": {},
   "source": [
    "**NOTE**: The first set of words represent the strongest portion of the topic, covering approximately 95% of the topic strength. The words in brackets represent the total list of words defining the topic."
   ]
  },
  {
   "cell_type": "markdown",
   "metadata": {},
   "source": [
    "## 2. Get Documents Relevant to Topic"
   ]
  },
  {
   "cell_type": "code",
   "execution_count": 18,
   "metadata": {
    "collapsed": false
   },
   "outputs": [
    {
     "ename": "ValueError",
     "evalue": "row, column, and data array must all be the same length",
     "output_type": "error",
     "traceback": [
      "\u001b[0;31m---------------------------------------------------------------------------\u001b[0m",
      "\u001b[0;31mValueError\u001b[0m                                Traceback (most recent call last)",
      "\u001b[0;32m<ipython-input-18-335e376e3b22>\u001b[0m in \u001b[0;36m<module>\u001b[0;34m()\u001b[0m\n\u001b[0;32m----> 1\u001b[0;31m \u001b[0mtopics\u001b[0m\u001b[0;34m.\u001b[0m\u001b[0mmat\u001b[0m\u001b[0;34m\u001b[0m\u001b[0m\n\u001b[0m",
      "\u001b[0;32m/usr/local/lib/python3.5/dist-packages/anseri/analytics/topicmodels.pyx\u001b[0m in \u001b[0;36manseri.analytics.topicmodels.TopicModel.mat (anseri/analytics/topicmodels.c:8871)\u001b[0;34m()\u001b[0m\n",
      "\u001b[0;32m/home/gabriel/.local/lib/python3.5/site-packages/scipy/sparse/coo.py\u001b[0m in \u001b[0;36m__init__\u001b[0;34m(self, arg1, shape, dtype, copy)\u001b[0m\n\u001b[1;32m    182\u001b[0m             \u001b[0mself\u001b[0m\u001b[0;34m.\u001b[0m\u001b[0mdata\u001b[0m \u001b[0;34m=\u001b[0m \u001b[0mself\u001b[0m\u001b[0;34m.\u001b[0m\u001b[0mdata\u001b[0m\u001b[0;34m.\u001b[0m\u001b[0mastype\u001b[0m\u001b[0;34m(\u001b[0m\u001b[0mdtype\u001b[0m\u001b[0;34m,\u001b[0m \u001b[0mcopy\u001b[0m\u001b[0;34m=\u001b[0m\u001b[0;32mFalse\u001b[0m\u001b[0;34m)\u001b[0m\u001b[0;34m\u001b[0m\u001b[0m\n\u001b[1;32m    183\u001b[0m \u001b[0;34m\u001b[0m\u001b[0m\n\u001b[0;32m--> 184\u001b[0;31m         \u001b[0mself\u001b[0m\u001b[0;34m.\u001b[0m\u001b[0m_check\u001b[0m\u001b[0;34m(\u001b[0m\u001b[0;34m)\u001b[0m\u001b[0;34m\u001b[0m\u001b[0m\n\u001b[0m\u001b[1;32m    185\u001b[0m \u001b[0;34m\u001b[0m\u001b[0m\n\u001b[1;32m    186\u001b[0m     \u001b[0;32mdef\u001b[0m \u001b[0mgetnnz\u001b[0m\u001b[0;34m(\u001b[0m\u001b[0mself\u001b[0m\u001b[0;34m,\u001b[0m \u001b[0maxis\u001b[0m\u001b[0;34m=\u001b[0m\u001b[0;32mNone\u001b[0m\u001b[0;34m)\u001b[0m\u001b[0;34m:\u001b[0m\u001b[0;34m\u001b[0m\u001b[0m\n",
      "\u001b[0;32m/home/gabriel/.local/lib/python3.5/site-packages/scipy/sparse/coo.py\u001b[0m in \u001b[0;36m_check\u001b[0;34m(self)\u001b[0m\n\u001b[1;32m    226\u001b[0m         \u001b[0mself\u001b[0m\u001b[0;34m.\u001b[0m\u001b[0mdata\u001b[0m \u001b[0;34m=\u001b[0m \u001b[0mto_native\u001b[0m\u001b[0;34m(\u001b[0m\u001b[0mself\u001b[0m\u001b[0;34m.\u001b[0m\u001b[0mdata\u001b[0m\u001b[0;34m)\u001b[0m\u001b[0;34m\u001b[0m\u001b[0m\n\u001b[1;32m    227\u001b[0m \u001b[0;34m\u001b[0m\u001b[0m\n\u001b[0;32m--> 228\u001b[0;31m         \u001b[0;32mif\u001b[0m \u001b[0mself\u001b[0m\u001b[0;34m.\u001b[0m\u001b[0mnnz\u001b[0m \u001b[0;34m>\u001b[0m \u001b[0;36m0\u001b[0m\u001b[0;34m:\u001b[0m\u001b[0;34m\u001b[0m\u001b[0m\n\u001b[0m\u001b[1;32m    229\u001b[0m             \u001b[0;32mif\u001b[0m \u001b[0mself\u001b[0m\u001b[0;34m.\u001b[0m\u001b[0mrow\u001b[0m\u001b[0;34m.\u001b[0m\u001b[0mmax\u001b[0m\u001b[0;34m(\u001b[0m\u001b[0;34m)\u001b[0m \u001b[0;34m>=\u001b[0m \u001b[0mself\u001b[0m\u001b[0;34m.\u001b[0m\u001b[0mshape\u001b[0m\u001b[0;34m[\u001b[0m\u001b[0;36m0\u001b[0m\u001b[0;34m]\u001b[0m\u001b[0;34m:\u001b[0m\u001b[0;34m\u001b[0m\u001b[0m\n\u001b[1;32m    230\u001b[0m                 \u001b[0;32mraise\u001b[0m \u001b[0mValueError\u001b[0m\u001b[0;34m(\u001b[0m\u001b[0;34m'row index exceeds matrix dimensions'\u001b[0m\u001b[0;34m)\u001b[0m\u001b[0;34m\u001b[0m\u001b[0m\n",
      "\u001b[0;32m/home/gabriel/.local/lib/python3.5/site-packages/scipy/sparse/base.py\u001b[0m in \u001b[0;36mnnz\u001b[0;34m(self)\u001b[0m\n\u001b[1;32m    187\u001b[0m         \u001b[0mcount_nonzero\u001b[0m \u001b[0;34m:\u001b[0m \u001b[0mNumber\u001b[0m \u001b[0mof\u001b[0m \u001b[0mnon\u001b[0m\u001b[0;34m-\u001b[0m\u001b[0mzero\u001b[0m \u001b[0mentries\u001b[0m\u001b[0;34m\u001b[0m\u001b[0m\n\u001b[1;32m    188\u001b[0m         \"\"\"\n\u001b[0;32m--> 189\u001b[0;31m         \u001b[0;32mreturn\u001b[0m \u001b[0mself\u001b[0m\u001b[0;34m.\u001b[0m\u001b[0mgetnnz\u001b[0m\u001b[0;34m(\u001b[0m\u001b[0;34m)\u001b[0m\u001b[0;34m\u001b[0m\u001b[0m\n\u001b[0m\u001b[1;32m    190\u001b[0m \u001b[0;34m\u001b[0m\u001b[0m\n\u001b[1;32m    191\u001b[0m     \u001b[0;32mdef\u001b[0m \u001b[0mgetformat\u001b[0m\u001b[0;34m(\u001b[0m\u001b[0mself\u001b[0m\u001b[0;34m)\u001b[0m\u001b[0;34m:\u001b[0m\u001b[0;34m\u001b[0m\u001b[0m\n",
      "\u001b[0;32m/home/gabriel/.local/lib/python3.5/site-packages/scipy/sparse/coo.py\u001b[0m in \u001b[0;36mgetnnz\u001b[0;34m(self, axis)\u001b[0m\n\u001b[1;32m    188\u001b[0m             \u001b[0mnnz\u001b[0m \u001b[0;34m=\u001b[0m \u001b[0mlen\u001b[0m\u001b[0;34m(\u001b[0m\u001b[0mself\u001b[0m\u001b[0;34m.\u001b[0m\u001b[0mdata\u001b[0m\u001b[0;34m)\u001b[0m\u001b[0;34m\u001b[0m\u001b[0m\n\u001b[1;32m    189\u001b[0m             \u001b[0;32mif\u001b[0m \u001b[0mnnz\u001b[0m \u001b[0;34m!=\u001b[0m \u001b[0mlen\u001b[0m\u001b[0;34m(\u001b[0m\u001b[0mself\u001b[0m\u001b[0;34m.\u001b[0m\u001b[0mrow\u001b[0m\u001b[0;34m)\u001b[0m \u001b[0;32mor\u001b[0m \u001b[0mnnz\u001b[0m \u001b[0;34m!=\u001b[0m \u001b[0mlen\u001b[0m\u001b[0;34m(\u001b[0m\u001b[0mself\u001b[0m\u001b[0;34m.\u001b[0m\u001b[0mcol\u001b[0m\u001b[0;34m)\u001b[0m\u001b[0;34m:\u001b[0m\u001b[0;34m\u001b[0m\u001b[0m\n\u001b[0;32m--> 190\u001b[0;31m                 raise ValueError('row, column, and data array must all be the '\n\u001b[0m\u001b[1;32m    191\u001b[0m                                  'same length')\n\u001b[1;32m    192\u001b[0m \u001b[0;34m\u001b[0m\u001b[0m\n",
      "\u001b[0;31mValueError\u001b[0m: row, column, and data array must all be the same length"
     ]
    }
   ],
   "source": [
    "topics.mat"
   ]
  },
  {
   "cell_type": "markdown",
   "metadata": {},
   "source": [
    "### Get Document Recommendations"
   ]
  },
  {
   "cell_type": "code",
   "execution_count": 18,
   "metadata": {
    "collapsed": false
   },
   "outputs": [
    {
     "name": "stdout",
     "output_type": "stream",
     "text": [
      "SHAPE SCORE: (158, 1)\n",
      "DOCIDS:[12159, 8734, 6343, 4774, 9265, 11551, 10387, 6568, 5815, 5526, 12568, 8848, 1456, 2893, 8306, 10569, 6834, 3251, 10495, 5420]\n",
      "Series of deadly attacks hit Iraq\n",
      "Dozens dead and wounded in Iraq bombings\n",
      "Dozens dead in wave of Iraq attacks\n",
      "Attacks leave many dead in Iraq\n",
      "Spate of deadly attacks across Iraq\n",
      "Deaths in Iraq bomb explosions\n",
      "Security forces targeted in Iraq attacks\n",
      "Multiple Iraq attacks leave many dead\n",
      "Deaths in attacks on Iraq's Sunni districts\n",
      "Many deaths in series of Iraq attacks\n",
      "Deaths reported in Iraq suicide blasts\n",
      "Deaths in Iraq car bomb attack\n",
      "Five US troops killed in Iraq attack\n",
      "Dozen killed in Iraq violence\n",
      "Blast strikes Shia charity office in Iraq\n",
      "Al-Qaeda group takes credit for Iraq attacks\n",
      "Dozens dead in string of Iraq blasts\n",
      "Trio of violent attacks strike Iraq\n",
      "Iraq sees deadliest month in over two years\n",
      "Attacks on Iraq's Shias leave scores dead\n",
      "SHAPE SCORE: (158, 16)\n",
      "DOCIDS:[12159, 6343, 4774, 8734, 5815]\n",
      "DOCIDS:[8826, 12816, 1404, 2461, 465]\n",
      "DOCIDS:[12166, 12071, 13056, 1469, 12631]\n",
      "DOCIDS:[10387, 5342, 12226, 3211, 10414]\n",
      "DOCIDS:[3956, 5058, 5114, 5084, 3877]\n",
      "DOCIDS:[4719, 12832, 12568, 9283, 9572]\n",
      "DOCIDS:[9572, 13206, 12954, 6892, 12802]\n",
      "DOCIDS:[5530, 1722, 5427, 1608, 8559]\n",
      "DOCIDS:[4774, 11636, 8861, 10482, 6343]\n",
      "DOCIDS:[9193, 3877, 11676, 4707, 11636]\n",
      "DOCIDS:[10135, 10122, 7091, 6282, 7069]\n",
      "DOCIDS:[4222, 3468, 3618, 4631, 11617]\n",
      "DOCIDS:[11005, 5526, 10569, 11391, 11617]\n",
      "DOCIDS:[11877, 1892, 9329, 5159, 3928]\n",
      "DOCIDS:[3540, 7091, 3204, 5301, 11116]\n",
      "DOCIDS:[12105, 12213, 13056, 12071, 13206]\n",
      "TOPIC 1\n",
      "Series of deadly attacks hit Iraq\n",
      "Dozens dead in wave of Iraq attacks\n",
      "Attacks leave many dead in Iraq\n",
      "Dozens dead and wounded in Iraq bombings\n",
      "Deaths in attacks on Iraq's Sunni districts\n",
      "TOPIC 2\n",
      "Dozens killed in Iraq car bomb attack\n",
      "Dozens killed at Iraq police headquarters\n",
      "Deaths as blasts rock central Iraq city\n",
      "Two deadly bombings strike Iraq\n",
      "Many killed in Iraq attacks\n",
      "TOPIC 3\n",
      "Iraq PM warns Sunni protesters to end rallies\n",
      "Iraq Sunnis block trade routes in new protest\n",
      "Anti-government protests continue in Iraq\n",
      "Maliki asks for patience on Iraq reforms\n",
      "Several killed in clashes in Iraq's Fallujah\n",
      "TOPIC 4\n",
      "Security forces targeted in Iraq attacks\n",
      "Gunmen kill several security guards in Iraq\n",
      "Shia pilgrims killed by car bomb in Iraq\n",
      "Shia pilgrims shot dead in western Iraq\n",
      "Gunmen seize control of Iraq prison\n",
      "TOPIC 5\n",
      "Obama: All US troops to leave Iraq in 2011\n",
      "Obama marks coming end of US war in Iraq\n",
      "Last US combat troops leave Iraq\n",
      "US forces mark end of Iraq mission\n",
      "US 'abandons' plans to keep troops in Iraq\n",
      "TOPIC 6\n",
      "Suicide bomber strikes outside Iraq prison\n",
      "Suicide bomber kills over a dozen in Iraq\n",
      "Deaths reported in Iraq suicide blasts\n",
      "Iraq blasts kill Kurdish security officials\n",
      "Deaths in northern Iraq attacks\n",
      "TOPIC 7\n",
      "Deaths in northern Iraq attacks\n",
      "Protests in Iraq continue amid new killings\n",
      "Deadly bomb attacks rock Iraq markets\n",
      "Death row inmates in Iraq prison break\n",
      "Iraq Sunnis rally against Shia-led government\n",
      "TOPIC 8\n",
      "Shia pilgrims targeted in deadly Iraq attacks\n",
      "Iraq blast hits French embassy convoy\n",
      "Wave of bombings leaves scores dead in Iraq\n",
      "Attackers storm government building in Iraq\n",
      "Suicide bombing strikes funeral in Iraq\n",
      "TOPIC 9\n",
      "Attacks leave many dead in Iraq\n",
      "Iraq's 'al-Qaeda chief' arrested\n",
      "Iraq says al-Qaeda flowing into Syria\n",
      "Many killed in string of Iraq attacks\n",
      "Dozens dead in wave of Iraq attacks\n",
      "TOPIC 10\n",
      "Blast shuts down Iraq-Turkey oil pipeline\n",
      "US 'abandons' plans to keep troops in Iraq\n",
      "Iraq denies entry to Turkish minister\n",
      "Iraq hit by series of fatal bombings\n",
      "Iraq's 'al-Qaeda chief' arrested\n",
      "TOPIC 11\n",
      "Iraq sentences vice-president to death\n",
      "Iraq vice-president rejects death sentence\n",
      "Qatar rejects Iraq's call to extradite VP\n",
      "Iraq VP rejects 'death squad charges'\n",
      "Iraq demands extradition of 'fugitive' VP\n",
      "TOPIC 12\n",
      "Deadly triple bombing strikes Iraq oil hub\n",
      "Deadly explosions hit Iraq's Karbala city\n",
      "'Police chief killed' in Iraq hostage drama\n",
      "Deadly triple blasts rock Iraq's south\n",
      "Scores killed in Iraq blasts\n",
      "TOPIC 13\n",
      "Iraq rocked by wave of deadly Eid attacks\n",
      "Many deaths in series of Iraq attacks\n",
      "Al-Qaeda group takes credit for Iraq attacks\n",
      "Syrian rebels 'seize airport near Iraq'\n",
      "Scores killed in Iraq blasts\n",
      "TOPIC 14\n",
      "Bomb kills Kurdish security recruits in Iraq\n",
      "Iraq's Kurds fear border disputes\n",
      "Kurd leader warns against budget cuts by Iraq\n",
      "Iraq's Maliki urges Kurds to hand over VP\n",
      "Turkish troops enter Iraq after PKK attacks\n",
      "TOPIC 15\n",
      "Iraq makes first payment for US F-16s\n",
      "Qatar rejects Iraq's call to extradite VP\n",
      "Colin Powell regrets Iraq war intelligence\n",
      "US pushes ahead with arms deal to Iraq\n",
      "Iran's currency woes hurt wallets in Iraq\n",
      "TOPIC 16\n",
      "Iraq mass protests mount pressure on Maliki\n",
      "Anti-government protests rage across Iraq\n",
      "Anti-government protests continue in Iraq\n",
      "Iraq Sunnis block trade routes in new protest\n",
      "Protests in Iraq continue amid new killings\n"
     ]
    }
   ],
   "source": [
    "# Get strongest examples of a single topic\n",
    "for row in ai.topicmodels.TopicDocumentRecommendation(topics[0], model, n_docs=20):\n",
    "    if 'title' in row.keys():\n",
    "        print(row['title'])\n",
    "\n",
    "# Get strongest examples of each topic in a collection of topics\n",
    "recommendations = ai.topicmodels.TopicDocumentRecommendation(topics, model, n_docs=5)\n",
    "for i, topicdocs in enumerate(recommendations):\n",
    "    print(\"TOPIC {}\".format(i+1))\n",
    "    for row in topicdocs:\n",
    "        if 'title' in row.keys():\n",
    "            print(row['title'])"
   ]
  },
  {
   "cell_type": "markdown",
   "metadata": {},
   "source": [
    "### Note: Defining document display\n",
    "\n",
    "Different datasets use different schemas. The following code snippet shows you how to determine the names of columns in your dataset so you can decide how to display your content."
   ]
  },
  {
   "cell_type": "code",
   "execution_count": 19,
   "metadata": {
    "collapsed": false
   },
   "outputs": [
    {
     "name": "stdout",
     "output_type": "stream",
     "text": [
      "['content', 'content_content', 'content_segments', 'content_segdir', 'content_docsize', 'content_stat', 'content_fragindex', 'title', 'title_content', 'title_segments', 'title_segdir', 'title_docsize', 'title_stat', 'title_fragindex', 'attributes']\n"
     ]
    }
   ],
   "source": [
    "# First, get name of tables. In this example, we are interested in \"Data\".\n",
    "\n",
    "print(d.db_controller.get_table_names())"
   ]
  },
  {
   "cell_type": "code",
   "execution_count": 19,
   "metadata": {
    "collapsed": false
   },
   "outputs": [],
   "source": [
    "# Example: Print title and content fields\n",
    "\n",
    "#for topdoc in recommendations[3]:\n",
    "#    print(\"\"\"-- {title} --\\n{content}\\n\\n\"\"\".format(**topdoc))"
   ]
  },
  {
   "cell_type": "markdown",
   "metadata": {},
   "source": [
    "### Export to CSV"
   ]
  },
  {
   "cell_type": "code",
   "execution_count": 20,
   "metadata": {
    "collapsed": true
   },
   "outputs": [],
   "source": [
    "import csv\n",
    "def export_to_csv(fname, topics, topdocs, document_fields=None):\n",
    "    \"\"\"\n",
    "    Export topics and corresponding recommended topic docs to csv file\n",
    "    \"\"\"\n",
    "    if not document_fields:\n",
    "        document_fields = ['title', 'content']\n",
    "        \n",
    "    colnames = ['topic_index', 'topic_name'] + document_fields\n",
    "\n",
    "    with open(fname+\".csv\", 'w') as csvfile:\n",
    "        writer = csv.DictWriter(csvfile, fieldnames=colnames)\n",
    "        writer.writeheader()\n",
    "\n",
    "        for i, (topic, docs) in enumerate(zip(topics, topdocs)):\n",
    "            record = {\"topic_index\": i, \"topic_name\": topic.name}\n",
    "            for doc in docs:\n",
    "                for df in document_fields:\n",
    "                    if df in record:\n",
    "                        record[df] = doc[df]\n",
    "                writer.writerow(record)"
   ]
  },
  {
   "cell_type": "code",
   "execution_count": 21,
   "metadata": {
    "collapsed": false
   },
   "outputs": [
    {
     "ename": "NameError",
     "evalue": "name 'recommendations' is not defined",
     "output_type": "error",
     "traceback": [
      "\u001b[0;31m---------------------------------------------------------------------------\u001b[0m",
      "\u001b[0;31mNameError\u001b[0m                                 Traceback (most recent call last)",
      "\u001b[0;32m<ipython-input-21-eefc3db57692>\u001b[0m in \u001b[0;36m<module>\u001b[0;34m()\u001b[0m\n\u001b[0;32m----> 1\u001b[0;31m \u001b[0mexport_to_csv\u001b[0m\u001b[0;34m(\u001b[0m\u001b[0;34m'aljazeera_topics'\u001b[0m\u001b[0;34m,\u001b[0m \u001b[0mtopics\u001b[0m\u001b[0;34m,\u001b[0m \u001b[0mrecommendations\u001b[0m\u001b[0;34m)\u001b[0m\u001b[0;34m\u001b[0m\u001b[0m\n\u001b[0m",
      "\u001b[0;31mNameError\u001b[0m: name 'recommendations' is not defined"
     ]
    }
   ],
   "source": [
    "export_to_csv('aljazeera_topics', topics, recommendations)"
   ]
  },
  {
   "cell_type": "markdown",
   "metadata": {},
   "source": [
    "## 3. Subtopics"
   ]
  },
  {
   "cell_type": "code",
   "execution_count": 22,
   "metadata": {
    "collapsed": false
   },
   "outputs": [
    {
     "name": "stdout",
     "output_type": "stream",
     "text": [
      "authorities country warned: [authorities, country, warned, cyclone, security, monday, forces, south]\n"
     ]
    }
   ],
   "source": [
    "selected_topic = 1\n",
    "print(topics[selected_topic])"
   ]
  },
  {
   "cell_type": "code",
   "execution_count": 23,
   "metadata": {
    "collapsed": false
   },
   "outputs": [
    {
     "ename": "ValueError",
     "evalue": "row, column, and data array must all be the same length",
     "output_type": "error",
     "traceback": [
      "\u001b[0;31m---------------------------------------------------------------------------\u001b[0m",
      "\u001b[0;31mValueError\u001b[0m                                Traceback (most recent call last)",
      "\u001b[0;32m<ipython-input-23-43fc52daef99>\u001b[0m in \u001b[0;36m<module>\u001b[0;34m()\u001b[0m\n\u001b[1;32m      4\u001b[0m \u001b[0;34m\u001b[0m\u001b[0m\n\u001b[1;32m      5\u001b[0m \u001b[0msubtopic_sel\u001b[0m \u001b[0;34m=\u001b[0m \u001b[0mai\u001b[0m\u001b[0;34m.\u001b[0m\u001b[0mtopicmodels\u001b[0m\u001b[0;34m.\u001b[0m\u001b[0mTopicSelection\u001b[0m\u001b[0;34m(\u001b[0m\u001b[0mtopics\u001b[0m\u001b[0;34m[\u001b[0m\u001b[0mselected_topic\u001b[0m\u001b[0;34m]\u001b[0m\u001b[0;34m,\u001b[0m \u001b[0mthresh\u001b[0m\u001b[0;34m=\u001b[0m\u001b[0;34m'quantile'\u001b[0m\u001b[0;34m,\u001b[0m \u001b[0mthresh_val\u001b[0m\u001b[0;34m=\u001b[0m\u001b[0;36m20.\u001b[0m\u001b[0;34m)\u001b[0m\u001b[0;34m\u001b[0m\u001b[0m\n\u001b[0;32m----> 6\u001b[0;31m \u001b[0msubtopic_sel\u001b[0m\u001b[0;34m(\u001b[0m\u001b[0mmodel\u001b[0m\u001b[0;34m)\u001b[0m    \u001b[0;31m# Make the selection concrete by passing in the model\u001b[0m\u001b[0;34m\u001b[0m\u001b[0m\n\u001b[0m",
      "\u001b[0;32m/usr/local/lib/python3.5/dist-packages/anseri/analytics/topicmodels.pyx\u001b[0m in \u001b[0;36manseri.analytics.topicmodels.TopicSelection.__call__ (anseri/analytics/topicmodels.c:17998)\u001b[0;34m()\u001b[0m\n",
      "\u001b[0;32m/usr/local/lib/python3.5/dist-packages/anseri/analytics/topicmodels.pyx\u001b[0m in \u001b[0;36manseri.analytics.topicmodels.TopicModel.score (anseri/analytics/topicmodels.c:9179)\u001b[0;34m()\u001b[0m\n",
      "\u001b[0;32m/usr/local/lib/python3.5/dist-packages/anseri/analytics/topicmodels.pyx\u001b[0m in \u001b[0;36manseri.analytics.topicmodels.TopicModel.mat (anseri/analytics/topicmodels.c:8871)\u001b[0;34m()\u001b[0m\n",
      "\u001b[0;32m/home/gabriel/.local/lib/python3.5/site-packages/scipy/sparse/coo.py\u001b[0m in \u001b[0;36m__init__\u001b[0;34m(self, arg1, shape, dtype, copy)\u001b[0m\n\u001b[1;32m    182\u001b[0m             \u001b[0mself\u001b[0m\u001b[0;34m.\u001b[0m\u001b[0mdata\u001b[0m \u001b[0;34m=\u001b[0m \u001b[0mself\u001b[0m\u001b[0;34m.\u001b[0m\u001b[0mdata\u001b[0m\u001b[0;34m.\u001b[0m\u001b[0mastype\u001b[0m\u001b[0;34m(\u001b[0m\u001b[0mdtype\u001b[0m\u001b[0;34m,\u001b[0m \u001b[0mcopy\u001b[0m\u001b[0;34m=\u001b[0m\u001b[0;32mFalse\u001b[0m\u001b[0;34m)\u001b[0m\u001b[0;34m\u001b[0m\u001b[0m\n\u001b[1;32m    183\u001b[0m \u001b[0;34m\u001b[0m\u001b[0m\n\u001b[0;32m--> 184\u001b[0;31m         \u001b[0mself\u001b[0m\u001b[0;34m.\u001b[0m\u001b[0m_check\u001b[0m\u001b[0;34m(\u001b[0m\u001b[0;34m)\u001b[0m\u001b[0;34m\u001b[0m\u001b[0m\n\u001b[0m\u001b[1;32m    185\u001b[0m \u001b[0;34m\u001b[0m\u001b[0m\n\u001b[1;32m    186\u001b[0m     \u001b[0;32mdef\u001b[0m \u001b[0mgetnnz\u001b[0m\u001b[0;34m(\u001b[0m\u001b[0mself\u001b[0m\u001b[0;34m,\u001b[0m \u001b[0maxis\u001b[0m\u001b[0;34m=\u001b[0m\u001b[0;32mNone\u001b[0m\u001b[0;34m)\u001b[0m\u001b[0;34m:\u001b[0m\u001b[0;34m\u001b[0m\u001b[0m\n",
      "\u001b[0;32m/home/gabriel/.local/lib/python3.5/site-packages/scipy/sparse/coo.py\u001b[0m in \u001b[0;36m_check\u001b[0;34m(self)\u001b[0m\n\u001b[1;32m    226\u001b[0m         \u001b[0mself\u001b[0m\u001b[0;34m.\u001b[0m\u001b[0mdata\u001b[0m \u001b[0;34m=\u001b[0m \u001b[0mto_native\u001b[0m\u001b[0;34m(\u001b[0m\u001b[0mself\u001b[0m\u001b[0;34m.\u001b[0m\u001b[0mdata\u001b[0m\u001b[0;34m)\u001b[0m\u001b[0;34m\u001b[0m\u001b[0m\n\u001b[1;32m    227\u001b[0m \u001b[0;34m\u001b[0m\u001b[0m\n\u001b[0;32m--> 228\u001b[0;31m         \u001b[0;32mif\u001b[0m \u001b[0mself\u001b[0m\u001b[0;34m.\u001b[0m\u001b[0mnnz\u001b[0m \u001b[0;34m>\u001b[0m \u001b[0;36m0\u001b[0m\u001b[0;34m:\u001b[0m\u001b[0;34m\u001b[0m\u001b[0m\n\u001b[0m\u001b[1;32m    229\u001b[0m             \u001b[0;32mif\u001b[0m \u001b[0mself\u001b[0m\u001b[0;34m.\u001b[0m\u001b[0mrow\u001b[0m\u001b[0;34m.\u001b[0m\u001b[0mmax\u001b[0m\u001b[0;34m(\u001b[0m\u001b[0;34m)\u001b[0m \u001b[0;34m>=\u001b[0m \u001b[0mself\u001b[0m\u001b[0;34m.\u001b[0m\u001b[0mshape\u001b[0m\u001b[0;34m[\u001b[0m\u001b[0;36m0\u001b[0m\u001b[0;34m]\u001b[0m\u001b[0;34m:\u001b[0m\u001b[0;34m\u001b[0m\u001b[0m\n\u001b[1;32m    230\u001b[0m                 \u001b[0;32mraise\u001b[0m \u001b[0mValueError\u001b[0m\u001b[0;34m(\u001b[0m\u001b[0;34m'row index exceeds matrix dimensions'\u001b[0m\u001b[0;34m)\u001b[0m\u001b[0;34m\u001b[0m\u001b[0m\n",
      "\u001b[0;32m/home/gabriel/.local/lib/python3.5/site-packages/scipy/sparse/base.py\u001b[0m in \u001b[0;36mnnz\u001b[0;34m(self)\u001b[0m\n\u001b[1;32m    187\u001b[0m         \u001b[0mcount_nonzero\u001b[0m \u001b[0;34m:\u001b[0m \u001b[0mNumber\u001b[0m \u001b[0mof\u001b[0m \u001b[0mnon\u001b[0m\u001b[0;34m-\u001b[0m\u001b[0mzero\u001b[0m \u001b[0mentries\u001b[0m\u001b[0;34m\u001b[0m\u001b[0m\n\u001b[1;32m    188\u001b[0m         \"\"\"\n\u001b[0;32m--> 189\u001b[0;31m         \u001b[0;32mreturn\u001b[0m \u001b[0mself\u001b[0m\u001b[0;34m.\u001b[0m\u001b[0mgetnnz\u001b[0m\u001b[0;34m(\u001b[0m\u001b[0;34m)\u001b[0m\u001b[0;34m\u001b[0m\u001b[0m\n\u001b[0m\u001b[1;32m    190\u001b[0m \u001b[0;34m\u001b[0m\u001b[0m\n\u001b[1;32m    191\u001b[0m     \u001b[0;32mdef\u001b[0m \u001b[0mgetformat\u001b[0m\u001b[0;34m(\u001b[0m\u001b[0mself\u001b[0m\u001b[0;34m)\u001b[0m\u001b[0;34m:\u001b[0m\u001b[0;34m\u001b[0m\u001b[0m\n",
      "\u001b[0;32m/home/gabriel/.local/lib/python3.5/site-packages/scipy/sparse/coo.py\u001b[0m in \u001b[0;36mgetnnz\u001b[0;34m(self, axis)\u001b[0m\n\u001b[1;32m    188\u001b[0m             \u001b[0mnnz\u001b[0m \u001b[0;34m=\u001b[0m \u001b[0mlen\u001b[0m\u001b[0;34m(\u001b[0m\u001b[0mself\u001b[0m\u001b[0;34m.\u001b[0m\u001b[0mdata\u001b[0m\u001b[0;34m)\u001b[0m\u001b[0;34m\u001b[0m\u001b[0m\n\u001b[1;32m    189\u001b[0m             \u001b[0;32mif\u001b[0m \u001b[0mnnz\u001b[0m \u001b[0;34m!=\u001b[0m \u001b[0mlen\u001b[0m\u001b[0;34m(\u001b[0m\u001b[0mself\u001b[0m\u001b[0;34m.\u001b[0m\u001b[0mrow\u001b[0m\u001b[0;34m)\u001b[0m \u001b[0;32mor\u001b[0m \u001b[0mnnz\u001b[0m \u001b[0;34m!=\u001b[0m \u001b[0mlen\u001b[0m\u001b[0;34m(\u001b[0m\u001b[0mself\u001b[0m\u001b[0;34m.\u001b[0m\u001b[0mcol\u001b[0m\u001b[0;34m)\u001b[0m\u001b[0;34m:\u001b[0m\u001b[0;34m\u001b[0m\u001b[0m\n\u001b[0;32m--> 190\u001b[0;31m                 raise ValueError('row, column, and data array must all be the '\n\u001b[0m\u001b[1;32m    191\u001b[0m                                  'same length')\n\u001b[1;32m    192\u001b[0m \u001b[0;34m\u001b[0m\u001b[0m\n",
      "\u001b[0;31mValueError\u001b[0m: row, column, and data array must all be the same length"
     ]
    }
   ],
   "source": [
    "# TopicSelection defines a topic \"mention\" based on a threshold of topic strength,\n",
    "# either 'abs' for a concrete value threshold, or 'quantile' to specify a minimum quantile threshold\n",
    "# Then, all documents \"mentioning\" the given topic are selected.\n",
    "\n",
    "subtopic_sel = ai.topicmodels.TopicSelection(topics[selected_topic], thresh='quantile', thresh_val=20.)\n",
    "subtopic_sel(model)    # Make the selection concrete by passing in the model"
   ]
  },
  {
   "cell_type": "code",
   "execution_count": 24,
   "metadata": {
    "collapsed": false
   },
   "outputs": [
    {
     "ename": "ValueError",
     "evalue": "Selection object must be concrete to be used to slice a data model.",
     "output_type": "error",
     "traceback": [
      "\u001b[0;31m---------------------------------------------------------------------------\u001b[0m",
      "\u001b[0;31mValueError\u001b[0m                                Traceback (most recent call last)",
      "\u001b[0;32m<ipython-input-24-aab8d8b9b601>\u001b[0m in \u001b[0;36m<module>\u001b[0;34m()\u001b[0m\n\u001b[0;32m----> 1\u001b[0;31m \u001b[0msubmodel\u001b[0m \u001b[0;34m=\u001b[0m \u001b[0mmodel\u001b[0m\u001b[0;34m[\u001b[0m\u001b[0msubtopic_sel\u001b[0m\u001b[0;34m]\u001b[0m    \u001b[0;31m# Data models can be sliced by a selection\u001b[0m\u001b[0;34m\u001b[0m\u001b[0m\n\u001b[0m",
      "\u001b[0;32m/usr/local/lib/python3.5/dist-packages/anseri/data_model.pyx\u001b[0m in \u001b[0;36manseri.data_model.DataModel.__getitem__ (anseri/data_model.c:12470)\u001b[0;34m()\u001b[0m\n",
      "\u001b[0;31mValueError\u001b[0m: Selection object must be concrete to be used to slice a data model."
     ]
    }
   ],
   "source": [
    "submodel = model[subtopic_sel]    # Data models can be sliced by a selection"
   ]
  },
  {
   "cell_type": "code",
   "execution_count": 25,
   "metadata": {
    "collapsed": false
   },
   "outputs": [
    {
     "ename": "NameError",
     "evalue": "name 'submodel' is not defined",
     "output_type": "error",
     "traceback": [
      "\u001b[0;31m---------------------------------------------------------------------------\u001b[0m",
      "\u001b[0;31mNameError\u001b[0m                                 Traceback (most recent call last)",
      "\u001b[0;32m<ipython-input-25-ae8d31483c1b>\u001b[0m in \u001b[0;36m<module>\u001b[0;34m()\u001b[0m\n\u001b[0;32m----> 1\u001b[0;31m \u001b[0msubtopics\u001b[0m \u001b[0;34m=\u001b[0m \u001b[0mSPCA\u001b[0m\u001b[0;34m(\u001b[0m\u001b[0msubmodel\u001b[0m\u001b[0;34m,\u001b[0m \u001b[0mignore_words\u001b[0m\u001b[0;34m=\u001b[0m\u001b[0;34m[\u001b[0m\u001b[0mk\u001b[0m \u001b[0;32mfor\u001b[0m \u001b[0mt\u001b[0m \u001b[0;32min\u001b[0m \u001b[0mtopics\u001b[0m \u001b[0;32mfor\u001b[0m \u001b[0mk\u001b[0m \u001b[0;32min\u001b[0m \u001b[0mt\u001b[0m\u001b[0;34m.\u001b[0m\u001b[0mfeatures\u001b[0m\u001b[0;34m]\u001b[0m\u001b[0;34m)\u001b[0m   \u001b[0;31m# ignore words from already discovered topics\u001b[0m\u001b[0;34m\u001b[0m\u001b[0m\n\u001b[0m\u001b[1;32m      2\u001b[0m \u001b[0mprint\u001b[0m\u001b[0;34m(\u001b[0m\u001b[0msubtopics\u001b[0m\u001b[0;34m)\u001b[0m\u001b[0;34m\u001b[0m\u001b[0m\n",
      "\u001b[0;31mNameError\u001b[0m: name 'submodel' is not defined"
     ]
    }
   ],
   "source": [
    "subtopics = SPCA(submodel, ignore_words=[k for t in topics for k in t.features])   # ignore words from already discovered topics\n",
    "print(subtopics)"
   ]
  },
  {
   "cell_type": "markdown",
   "metadata": {
    "collapsed": true
   },
   "source": [
    "# 4. Regression"
   ]
  },
  {
   "cell_type": "code",
   "execution_count": 26,
   "metadata": {
    "collapsed": false
   },
   "outputs": [
    {
     "name": "stdout",
     "output_type": "stream",
     "text": [
      "-1.0\n",
      "1.0\n"
     ]
    }
   ],
   "source": [
    "lma = ai.linearmodels.LinearModelRS(rho=0.001)\n",
    "\n",
    "# What is the difference between Iraq and Iran?\n",
    "pos_sel = ai.FeatureSelection(\"iraq\") - ai.FeatureSelection(\"iran\")\n",
    "neg_sel = ai.FeatureSelection(\"iran\") - ai.FeatureSelection(\"iraq\")\n",
    "d.select(pos_sel)\n",
    "d.select(neg_sel)\n",
    "model = d.load(pos_sel + neg_sel)\n",
    "classvec = model.get_classification_vector({1.: pos_sel, -1.: neg_sel})\n",
    "print(np.min(classvec.data))\n",
    "print(np.max(classvec.data))\n",
    "\n",
    "selection_map = {1: pos_sel, -1: neg_sel}\n",
    "selection_map = [(s, v) for v, s in iter(selection_map.items())]\n",
    "\n",
    "# ignore words: iraq, iran\n",
    "model._mat = ai.data_conditioning.remove_cols(model.mat, model.feature_id_to_col(d.get_feature_ids(['iraq', 'iran'])))\n",
    "# Compute the solution\n",
    "linear_model = lma(model, classvec)"
   ]
  },
  {
   "cell_type": "code",
   "execution_count": 27,
   "metadata": {
    "collapsed": false
   },
   "outputs": [],
   "source": [
    "v = np.argsort(np.array(linear_model.params).ravel())[::-1][:20]   # Get the top 20 "
   ]
  },
  {
   "cell_type": "code",
   "execution_count": 28,
   "metadata": {
    "collapsed": false
   },
   "outputs": [],
   "source": [
    "z = d.get_features_by_id(model.col_to_feature_id(v))"
   ]
  },
  {
   "cell_type": "code",
   "execution_count": 29,
   "metadata": {
    "collapsed": false
   },
   "outputs": [
    {
     "name": "stdout",
     "output_type": "stream",
     "text": [
      "tamaulipas\n",
      "overturned\n",
      "ukraine\n",
      "flown\n",
      "holed\n",
      "tshisekedi\n",
      "kabila\n",
      "ioc\n",
      "opposed\n",
      "shia\n",
      "food\n",
      "hunger\n",
      "reportedly\n",
      "gas\n",
      "region\n",
      "july\n",
      "tymoshenko\n",
      "famine\n",
      "players\n",
      "armstrong\n"
     ]
    }
   ],
   "source": [
    "for k in z:\n",
    "    print(k)"
   ]
  },
  {
   "cell_type": "code",
   "execution_count": 30,
   "metadata": {
    "collapsed": false
   },
   "outputs": [
    {
     "name": "stdout",
     "output_type": "stream",
     "text": [
      "Error accessing d=13288\n"
     ]
    },
    {
     "ename": "IndexError",
     "evalue": "Index out of range",
     "output_type": "error",
     "traceback": [
      "\u001b[0;31m---------------------------------------------------------------------------\u001b[0m",
      "\u001b[0;31mIndexError\u001b[0m                                Traceback (most recent call last)",
      "\u001b[0;32m<ipython-input-30-b8477948ce0c>\u001b[0m in \u001b[0;36m<module>\u001b[0;34m()\u001b[0m\n\u001b[1;32m      5\u001b[0m \u001b[0md\u001b[0m\u001b[0;34m.\u001b[0m\u001b[0mselect\u001b[0m\u001b[0;34m(\u001b[0m\u001b[0mpos_sel\u001b[0m\u001b[0;34m)\u001b[0m\u001b[0;34m\u001b[0m\u001b[0m\n\u001b[1;32m      6\u001b[0m \u001b[0md\u001b[0m\u001b[0;34m.\u001b[0m\u001b[0mselect\u001b[0m\u001b[0;34m(\u001b[0m\u001b[0mneg_sel\u001b[0m\u001b[0;34m)\u001b[0m\u001b[0;34m\u001b[0m\u001b[0m\n\u001b[0;32m----> 7\u001b[0;31m \u001b[0mmodel\u001b[0m \u001b[0;34m=\u001b[0m \u001b[0md\u001b[0m\u001b[0;34m.\u001b[0m\u001b[0mload\u001b[0m\u001b[0;34m(\u001b[0m\u001b[0mai\u001b[0m\u001b[0;34m.\u001b[0m\u001b[0mAllSelection\u001b[0m\u001b[0;34m(\u001b[0m\u001b[0;34m)\u001b[0m\u001b[0;34m)\u001b[0m\u001b[0;34m\u001b[0m\u001b[0m\n\u001b[0m\u001b[1;32m      8\u001b[0m \u001b[0mclassvec\u001b[0m \u001b[0;34m=\u001b[0m \u001b[0mmodel\u001b[0m\u001b[0;34m.\u001b[0m\u001b[0mget_classification_vector\u001b[0m\u001b[0;34m(\u001b[0m\u001b[0;34m{\u001b[0m\u001b[0;36m1.\u001b[0m\u001b[0;34m:\u001b[0m \u001b[0mpos_sel\u001b[0m\u001b[0;34m,\u001b[0m \u001b[0;34m-\u001b[0m\u001b[0;36m1.\u001b[0m\u001b[0;34m:\u001b[0m \u001b[0mneg_sel\u001b[0m\u001b[0;34m}\u001b[0m\u001b[0;34m)\u001b[0m\u001b[0;34m\u001b[0m\u001b[0m\n\u001b[1;32m      9\u001b[0m \u001b[0mselection_map\u001b[0m \u001b[0;34m=\u001b[0m \u001b[0;34m{\u001b[0m\u001b[0;36m1\u001b[0m\u001b[0;34m:\u001b[0m \u001b[0mpos_sel\u001b[0m\u001b[0;34m,\u001b[0m \u001b[0;34m-\u001b[0m\u001b[0;36m1\u001b[0m\u001b[0;34m:\u001b[0m \u001b[0mneg_sel\u001b[0m\u001b[0;34m}\u001b[0m\u001b[0;34m\u001b[0m\u001b[0m\n",
      "\u001b[0;32m/usr/local/lib/python3.5/dist-packages/anseri/dataset.pyx\u001b[0m in \u001b[0;36manseri.dataset.Dataset.load (anseri/dataset.c:10214)\u001b[0;34m()\u001b[0m\n",
      "\u001b[0;32m/usr/local/lib/python3.5/dist-packages/anseri/data_model.pyx\u001b[0m in \u001b[0;36manseri.data_model.DataModel.from_all_mat (anseri/data_model.c:6277)\u001b[0;34m()\u001b[0m\n",
      "\u001b[0;32m/usr/local/lib/python3.5/dist-packages/anseri/data_model.pyx\u001b[0m in \u001b[0;36manseri.data_model.DataModel.from_datasource (anseri/data_model.c:5232)\u001b[0;34m()\u001b[0m\n",
      "\u001b[0;32m/usr/local/lib/python3.5/dist-packages/anseri/storage.pyx\u001b[0m in \u001b[0;36miter_selection (anseri/storage.c:12296)\u001b[0;34m()\u001b[0m\n",
      "\u001b[0;32m/usr/local/lib/python3.5/dist-packages/anseri/storage.pyx\u001b[0m in \u001b[0;36manseri.storage.AnseriStore.iter_selection (anseri/storage.c:12124)\u001b[0;34m()\u001b[0m\n",
      "\u001b[0;32m/home/gabriel/.local/lib/python3.5/site-packages/tables/vlarray.py\u001b[0m in \u001b[0;36m__getitem__\u001b[0;34m(self, key)\u001b[0m\n\u001b[1;32m    664\u001b[0m             \u001b[0;31m# Index out of range protection\u001b[0m\u001b[0;34m\u001b[0m\u001b[0;34m\u001b[0m\u001b[0m\n\u001b[1;32m    665\u001b[0m             \u001b[0;32mif\u001b[0m \u001b[0mkey\u001b[0m \u001b[0;34m>=\u001b[0m \u001b[0mself\u001b[0m\u001b[0;34m.\u001b[0m\u001b[0mnrows\u001b[0m\u001b[0;34m:\u001b[0m\u001b[0;34m\u001b[0m\u001b[0m\n\u001b[0;32m--> 666\u001b[0;31m                 \u001b[0;32mraise\u001b[0m \u001b[0mIndexError\u001b[0m\u001b[0;34m(\u001b[0m\u001b[0;34m\"Index out of range\"\u001b[0m\u001b[0;34m)\u001b[0m\u001b[0;34m\u001b[0m\u001b[0m\n\u001b[0m\u001b[1;32m    667\u001b[0m             \u001b[0;32mif\u001b[0m \u001b[0mkey\u001b[0m \u001b[0;34m<\u001b[0m \u001b[0;36m0\u001b[0m\u001b[0;34m:\u001b[0m\u001b[0;34m\u001b[0m\u001b[0m\n\u001b[1;32m    668\u001b[0m                 \u001b[0;31m# To support negative values\u001b[0m\u001b[0;34m\u001b[0m\u001b[0;34m\u001b[0m\u001b[0m\n",
      "\u001b[0;31mIndexError\u001b[0m: Index out of range"
     ]
    }
   ],
   "source": [
    "# What are the image words for \"iraq\" in the news?\n",
    "lma = ai.linearmodels.LinearModelRS(rho=0.0001)\n",
    "pos_sel = ai.FeatureSelection(\"iraq\")\n",
    "neg_sel = ai.AllSelection() - ai.FeatureSelection(\"iraq\")\n",
    "d.select(pos_sel)\n",
    "d.select(neg_sel)\n",
    "model = d.load(ai.AllSelection())\n",
    "classvec = model.get_classification_vector({1.: pos_sel, -1.: neg_sel})\n",
    "selection_map = {1: pos_sel, -1: neg_sel}\n",
    "selection_map = [(s, v) for v, s in iter(selection_map.items())]\n",
    "# ignore words: iraq\n",
    "model._mat = ai.data_conditioning.remove_cols(model.mat, model.feature_id_to_col(d.get_feature_ids(['iraq'])))\n",
    "# Compute the solution\n",
    "linear_model = lma(model, classvec)\n",
    "v = np.argsort(np.array(linear_model.params).ravel())[::-1][:20]   # Get the top 20 \n",
    "z = d.get_features_by_id(model.col_to_feature_id(v))\n"
   ]
  },
  {
   "cell_type": "code",
   "execution_count": 31,
   "metadata": {
    "collapsed": false
   },
   "outputs": [
    {
     "name": "stdout",
     "output_type": "stream",
     "text": [
      "tamaulipas: 0.031\n",
      "overturned: 0.025\n",
      "ukraine: 0.021\n",
      "flown: 0.018\n",
      "holed: 0.018\n",
      "tshisekedi: 0.017\n",
      "kabila: 0.017\n",
      "ioc: 0.017\n",
      "opposed: 0.017\n",
      "shia: 0.016\n",
      "food: 0.016\n",
      "hunger: 0.016\n",
      "reportedly: 0.015\n",
      "gas: 0.015\n",
      "region: 0.014\n",
      "july: 0.014\n",
      "tymoshenko: 0.013\n",
      "famine: 0.013\n",
      "players: 0.013\n",
      "armstrong: 0.013\n"
     ]
    }
   ],
   "source": [
    "for k, w in zip(z, np.array(linear_model.params).ravel()[v]):\n",
    "    print(\"{k}: {w:.2}\".format(k=k, w=w))"
   ]
  },
  {
   "cell_type": "markdown",
   "metadata": {},
   "source": [
    "                            ##########################################################"
   ]
  },
  {
   "cell_type": "markdown",
   "metadata": {
    "collapsed": true
   },
   "source": [
    "# Anseri"
   ]
  },
  {
   "cell_type": "markdown",
   "metadata": {},
   "source": [
    "Main Anseri functions:"
   ]
  },
  {
   "cell_type": "markdown",
   "metadata": {},
   "source": [
    "## 1. Import Dataset"
   ]
  },
  {
   "cell_type": "code",
   "execution_count": 32,
   "metadata": {
    "collapsed": true
   },
   "outputs": [],
   "source": [
    "# Suppress progress notifications for a cleaner notebook\n",
    "ai.disable_progress()  "
   ]
  },
  {
   "cell_type": "code",
   "execution_count": 33,
   "metadata": {
    "collapsed": false
   },
   "outputs": [
    {
     "ename": "OSError",
     "evalue": "Config file for dataset sql_dataset not found.",
     "output_type": "error",
     "traceback": [
      "\u001b[0;31m---------------------------------------------------------------------------\u001b[0m",
      "\u001b[0;31mOSError\u001b[0m                                   Traceback (most recent call last)",
      "\u001b[0;32m<ipython-input-33-cadb46b2cf51>\u001b[0m in \u001b[0;36m<module>\u001b[0;34m()\u001b[0m\n\u001b[1;32m      1\u001b[0m \u001b[0;31m#import a sql dataset\u001b[0m\u001b[0;34m\u001b[0m\u001b[0;34m\u001b[0m\u001b[0m\n\u001b[0;32m----> 2\u001b[0;31m \u001b[0md\u001b[0m \u001b[0;34m=\u001b[0m \u001b[0mai\u001b[0m\u001b[0;34m.\u001b[0m\u001b[0mDataset\u001b[0m\u001b[0;34m(\u001b[0m\u001b[0;34m\"sql_dataset\"\u001b[0m\u001b[0;34m)\u001b[0m\u001b[0;34m\u001b[0m\u001b[0m\n\u001b[0m",
      "\u001b[0;32m/usr/local/lib/python3.5/dist-packages/anseri/dataset.pyx\u001b[0m in \u001b[0;36manseri.dataset.Dataset.__init__ (anseri/dataset.c:6743)\u001b[0;34m()\u001b[0m\n",
      "\u001b[0;32m/usr/local/lib/python3.5/dist-packages/anseri/dataset.pyx\u001b[0m in \u001b[0;36manseri.dataset.Dataset.config_file_path (anseri/dataset.c:9418)\u001b[0;34m()\u001b[0m\n",
      "\u001b[0;31mOSError\u001b[0m: Config file for dataset sql_dataset not found."
     ]
    }
   ],
   "source": [
    "#import a sql dataset\n",
    "d = ai.Dataset(\"sql_dataset\")"
   ]
  },
  {
   "cell_type": "markdown",
   "metadata": {},
   "source": [
    "### 2. Select ALL"
   ]
  },
  {
   "cell_type": "code",
   "execution_count": 34,
   "metadata": {
    "collapsed": true
   },
   "outputs": [],
   "source": [
    "#Select all the dataset\n",
    "selection = ai.AllSelection()"
   ]
  },
  {
   "cell_type": "code",
   "execution_count": 35,
   "metadata": {
    "collapsed": false
   },
   "outputs": [
    {
     "name": "stdout",
     "output_type": "stream",
     "text": [
      "(1300233600, 1361836800)\n"
     ]
    }
   ],
   "source": [
    "# Get the unix timestamps of the min/max times of entries in database\n",
    "print(d.time_range)"
   ]
  },
  {
   "cell_type": "code",
   "execution_count": 36,
   "metadata": {
    "collapsed": false
   },
   "outputs": [
    {
     "name": "stdout",
     "output_type": "stream",
     "text": [
      "['Mar 16 2011', 'Feb 26 2013']\n"
     ]
    }
   ],
   "source": [
    "# Get human-readable representation of timestamps (mth = machine-to-human)\n",
    "print([ai.utc.mth(x) for x in d.time_range])"
   ]
  },
  {
   "cell_type": "markdown",
   "metadata": {},
   "source": [
    "### 3. Select by time window"
   ]
  },
  {
   "cell_type": "code",
   "execution_count": 37,
   "metadata": {
    "collapsed": true
   },
   "outputs": [],
   "source": [
    "# Time windows specified human-readable\n",
    "selection = ai.TimeSelection(('Mar 1 2012', 'Jan 2 2013'))   "
   ]
  },
  {
   "cell_type": "code",
   "execution_count": 38,
   "metadata": {
    "collapsed": true
   },
   "outputs": [],
   "source": [
    "# Time windows specified machine-readable\n",
    "selection = ai.TimeSelection((1300233600, 1350000000)) "
   ]
  },
  {
   "cell_type": "markdown",
   "metadata": {},
   "source": [
    "### 4. Attribute Selection"
   ]
  },
  {
   "cell_type": "code",
   "execution_count": 39,
   "metadata": {
    "collapsed": true
   },
   "outputs": [],
   "source": [
    "#Select a document in a column\n",
    "selection = ai.AttributeSelection(\"author\", [\"keyword\"])"
   ]
  },
  {
   "cell_type": "markdown",
   "metadata": {},
   "source": [
    "### 5. Full-text Search"
   ]
  },
  {
   "cell_type": "code",
   "execution_count": 40,
   "metadata": {
    "collapsed": true
   },
   "outputs": [],
   "source": [
    "# full text search with fuzzy matching\n",
    "selection = ai.FullTextSelection(\"topic\")    "
   ]
  },
  {
   "cell_type": "markdown",
   "metadata": {},
   "source": [
    "### 6. Select by keyword (feature) mention"
   ]
  },
  {
   "cell_type": "code",
   "execution_count": 41,
   "metadata": {
    "collapsed": true
   },
   "outputs": [],
   "source": [
    "#Select by keyword (feature) mention\n",
    "selection = ai.FeatureSelection(\"feature\")"
   ]
  },
  {
   "cell_type": "markdown",
   "metadata": {},
   "source": [
    "## 7. Load data matching selection"
   ]
  },
  {
   "cell_type": "code",
   "execution_count": 42,
   "metadata": {
    "collapsed": true
   },
   "outputs": [],
   "source": [
    "# Load the sparse matrix model of corpus\n",
    "model = d.load(selection)   "
   ]
  },
  {
   "cell_type": "code",
   "execution_count": 43,
   "metadata": {
    "collapsed": false
   },
   "outputs": [
    {
     "data": {
      "text/plain": [
       "8"
      ]
     },
     "execution_count": 43,
     "metadata": {},
     "output_type": "execute_result"
    }
   ],
   "source": [
    "# selection.docids contain references to documents matching selection\n",
    "#length of documents\n",
    "len(selection.docids)  "
   ]
  },
  {
   "cell_type": "markdown",
   "metadata": {},
   "source": [
    "## 8. Load Raw Content from Database"
   ]
  },
  {
   "cell_type": "code",
   "execution_count": 44,
   "metadata": {
    "collapsed": false
   },
   "outputs": [
    {
     "name": "stdout",
     "output_type": "stream",
     "text": [
      "DOCIDS:[3746, 3654, 12454]\n",
      "dict_keys(['time', 'source', 'url', 'meta', 'location', 'title', 'docid', 'content'])\n",
      "Title: \t\tPires wins African governance prize\n",
      "\n",
      "\n",
      "\n",
      "dict_keys(['time', 'source', 'url', 'meta', 'location', 'title', 'docid', 'content'])\n",
      "Title: \t\tIsraeli scientist wins Nobel chemistry prize\n",
      "\n",
      "\n",
      "\n",
      "dict_keys(['time', 'source', 'url', 'meta', 'location', 'title', 'docid', 'content'])\n",
      "Title: \t\tFacebook launches new social search tool\n",
      "\n",
      "\n",
      "\n"
     ]
    }
   ],
   "source": [
    "#Load Raw Content from Database\n",
    "for doc in d.get_documents_by_id(list(selection.docids)[:3], fields=['title', 'content']):\n",
    "    print(doc.keys())\n",
    "    if 'title' in doc.keys():\n",
    "        print(\"Title: \\t\\t{}\".format(doc['title']))\n",
    "    else:\n",
    "        print(\"Content: \\t{}\".format(doc['content']))\n",
    "        \n",
    "    print(\"\\n\\n\")"
   ]
  },
  {
   "cell_type": "code",
   "execution_count": 45,
   "metadata": {
    "collapsed": false
   },
   "outputs": [
    {
     "name": "stdout",
     "output_type": "stream",
     "text": [
      "dict_keys(['time', 'source', 'url', 'meta', 'location', 'title', 'docid', 'content'])\n"
     ]
    }
   ],
   "source": [
    "# Get the names of available fields in content\n",
    "print(doc.keys())   "
   ]
  },
  {
   "cell_type": "code",
   "execution_count": 46,
   "metadata": {
    "collapsed": false
   },
   "outputs": [
    {
     "name": "stdout",
     "output_type": "stream",
     "text": [
      "n documents: 8\n",
      "m features: 230\n"
     ]
    }
   ],
   "source": [
    "# Get details about shape of sparse matrix representation of content\n",
    "n, m = model.shape    \n",
    "print(\"n documents: {:,}\".format(n))\n",
    "print(\"m features: {:,}\".format(m))"
   ]
  },
  {
   "cell_type": "markdown",
   "metadata": {},
   "source": [
    "## 9. Get Topics"
   ]
  },
  {
   "cell_type": "code",
   "execution_count": 47,
   "metadata": {
    "collapsed": true
   },
   "outputs": [],
   "source": [
    "# Instantiate the algorithm\n",
    "# ignore_terms injects extra stop-words at runtime\n",
    "SPCA = ai.topicmodels.TopicModelSPCA(n_topics=16, \n",
    "                                     card_terms=8, \n",
    "                                     card_docs=(n // 10),    # a good rule of thumb is to use 1 to 10% of documents\n",
    "                                     ignore_terms=[\"gen\", \"jan\", \"feb\", \"mar\", \"apr\", \"may\", \"jun\", \"jul\", \n",
    "                                                   \"aug\", \"sep\", \"oct\", \"nov\", \"dec\"])   "
   ]
  },
  {
   "cell_type": "code",
   "execution_count": 48,
   "metadata": {
    "collapsed": true
   },
   "outputs": [],
   "source": [
    "# TopicModel object has a convenient representation\n",
    "# Compute topics within the data model\n",
    "topics = SPCA(model, ignore_words=[\"gen\", \"jan\", \"feb\", \"mar\", \"apr\", \"may\", \"jun\", \"jul\", \n",
    "                                                   \"aug\", \"sep\", \"oct\", \"nov\", \"dec\"])  "
   ]
  },
  {
   "cell_type": "markdown",
   "metadata": {},
   "source": [
    "## 10. Get Documents Relevant to Topic"
   ]
  },
  {
   "cell_type": "code",
   "execution_count": 49,
   "metadata": {
    "collapsed": false
   },
   "outputs": [
    {
     "name": "stdout",
     "output_type": "stream",
     "text": [
      "(0.23193282488403202, 0.19871216374480125, 0.14903412280860096, 0.1241951023405008, 0.099356081872400623, 0.074517061404300478, 0.064192961338033039, 0.058059681607330896)\n",
      "(0.19269414669350601, 0.19269414669350601, 0.10852349552424298, 0.10852349552424298, 0.10852349552424298, 0.096347073346753007, 0.096347073346753007, 0.096347073346753007)\n",
      "(0.20276627477822559, 0.19585058783266163, 0.10484098086189478, 0.10484098086189478, 0.097925293916330813, 0.097925293916330813, 0.097925293916330813, 0.097925293916330813)\n",
      "(0.21972490437572595, 0.11544477197350066, 0.11311772155549772, 0.11226279334382383, 0.10986245218786297, 0.10986245218786297, 0.10986245218786297, 0.10986245218786297)\n",
      "(0.28410912142187672, 0.14205456071093836, 0.14205456071093836, 0.14205456071093836, 0.076645355378900659, 0.07102728035546918, 0.07102728035546918, 0.07102728035546918)\n",
      "(0.20000000000000001, 0.20000000000000001, 0.10000000000000001, 0.10000000000000001, 0.10000000000000001, 0.10000000000000001, 0.10000000000000001, 0.10000000000000001)\n",
      "(0.125, 0.125, 0.125, 0.125, 0.125, 0.125, 0.125, 0.125)\n",
      "(0.2008826181665572, 0.2008826181665572, 0.2008826181665572, 0.2008826181665572, 0.065254705412114325, 0.065254705412114325, 0.033332763803485418, 0.032627352706057162)\n",
      "(0.125, 0.125, 0.125, 0.125, 0.125, 0.125, 0.125, 0.125)\n",
      "(0.19999561883445655, 0.19999561883445655, 0.19999561883445655, 0.19999561883445655, 0.19999561883445655, 1.3143496630285696e-05, 4.3811655434285662e-06, 4.3811655434285662e-06)\n",
      "(0.125, 0.125, 0.125, 0.125, 0.125, 0.125, 0.125, 0.125)\n",
      "(0.125, 0.125, 0.125, 0.125, 0.125, 0.125, 0.125, 0.125)\n",
      "(0.125, 0.125, 0.125, 0.125, 0.125, 0.125, 0.125, 0.125)\n",
      "(0.125, 0.125, 0.125, 0.125, 0.125, 0.125, 0.125, 0.125)\n",
      "(0.125, 0.125, 0.125, 0.125, 0.125, 0.125, 0.125, 0.125)\n",
      "(0.125, 0.125, 0.125, 0.125, 0.125, 0.125, 0.125, 0.125)\n"
     ]
    }
   ],
   "source": [
    "# Topics are defined as weighted collections of words. Weights can be found as follows:\n",
    "for t in topics:\n",
    "    print(t.weights)"
   ]
  },
  {
   "cell_type": "markdown",
   "metadata": {},
   "source": [
    "#### NOTE: The first set of words represent the strongest portion of the topic, covering approximately 95% of the topic strength. The words in brackets represent the total list of words defining the topic."
   ]
  },
  {
   "cell_type": "code",
   "execution_count": 50,
   "metadata": {
    "collapsed": false
   },
   "outputs": [
    {
     "ename": "ValueError",
     "evalue": "row, column, and data array must all be the same length",
     "output_type": "error",
     "traceback": [
      "\u001b[0;31m---------------------------------------------------------------------------\u001b[0m",
      "\u001b[0;31mValueError\u001b[0m                                Traceback (most recent call last)",
      "\u001b[0;32m<ipython-input-50-2f11ef56de63>\u001b[0m in \u001b[0;36m<module>\u001b[0;34m()\u001b[0m\n\u001b[1;32m      1\u001b[0m \u001b[0;31m# Get strongest examples of a single topic\u001b[0m\u001b[0;34m\u001b[0m\u001b[0;34m\u001b[0m\u001b[0m\n\u001b[0;32m----> 2\u001b[0;31m \u001b[0;32mfor\u001b[0m \u001b[0mrow\u001b[0m \u001b[0;32min\u001b[0m \u001b[0mai\u001b[0m\u001b[0;34m.\u001b[0m\u001b[0mtopicmodels\u001b[0m\u001b[0;34m.\u001b[0m\u001b[0mTopicDocumentRecommendation\u001b[0m\u001b[0;34m(\u001b[0m\u001b[0mtopics\u001b[0m\u001b[0;34m[\u001b[0m\u001b[0;36m0\u001b[0m\u001b[0;34m]\u001b[0m\u001b[0;34m,\u001b[0m \u001b[0mmodel\u001b[0m\u001b[0;34m,\u001b[0m \u001b[0mn_docs\u001b[0m\u001b[0;34m=\u001b[0m\u001b[0;36m20\u001b[0m\u001b[0;34m)\u001b[0m\u001b[0;34m:\u001b[0m\u001b[0;34m\u001b[0m\u001b[0m\n\u001b[0m\u001b[1;32m      3\u001b[0m     \u001b[0;32mif\u001b[0m \u001b[0;34m'title'\u001b[0m \u001b[0;32min\u001b[0m \u001b[0mrow\u001b[0m\u001b[0;34m.\u001b[0m\u001b[0mkeys\u001b[0m\u001b[0;34m(\u001b[0m\u001b[0;34m)\u001b[0m\u001b[0;34m:\u001b[0m\u001b[0;34m\u001b[0m\u001b[0m\n\u001b[1;32m      4\u001b[0m         \u001b[0mprint\u001b[0m\u001b[0;34m(\u001b[0m\u001b[0mrow\u001b[0m\u001b[0;34m[\u001b[0m\u001b[0;34m'title'\u001b[0m\u001b[0;34m]\u001b[0m\u001b[0;34m)\u001b[0m\u001b[0;34m\u001b[0m\u001b[0m\n",
      "\u001b[0;32m/usr/local/lib/python3.5/dist-packages/anseri/analytics/topicmodels.pyx\u001b[0m in \u001b[0;36manseri.analytics.topicmodels.TopicDocumentRecommendation (anseri/analytics/topicmodels.c:18683)\u001b[0;34m()\u001b[0m\n",
      "\u001b[0;32m/usr/local/lib/python3.5/dist-packages/anseri/analytics/topicmodels.pyx\u001b[0m in \u001b[0;36manseri.analytics.topicmodels.TopicModel.score (anseri/analytics/topicmodels.c:9179)\u001b[0;34m()\u001b[0m\n",
      "\u001b[0;32m/usr/local/lib/python3.5/dist-packages/anseri/analytics/topicmodels.pyx\u001b[0m in \u001b[0;36manseri.analytics.topicmodels.TopicModel.mat (anseri/analytics/topicmodels.c:8871)\u001b[0;34m()\u001b[0m\n",
      "\u001b[0;32m/home/gabriel/.local/lib/python3.5/site-packages/scipy/sparse/coo.py\u001b[0m in \u001b[0;36m__init__\u001b[0;34m(self, arg1, shape, dtype, copy)\u001b[0m\n\u001b[1;32m    182\u001b[0m             \u001b[0mself\u001b[0m\u001b[0;34m.\u001b[0m\u001b[0mdata\u001b[0m \u001b[0;34m=\u001b[0m \u001b[0mself\u001b[0m\u001b[0;34m.\u001b[0m\u001b[0mdata\u001b[0m\u001b[0;34m.\u001b[0m\u001b[0mastype\u001b[0m\u001b[0;34m(\u001b[0m\u001b[0mdtype\u001b[0m\u001b[0;34m,\u001b[0m \u001b[0mcopy\u001b[0m\u001b[0;34m=\u001b[0m\u001b[0;32mFalse\u001b[0m\u001b[0;34m)\u001b[0m\u001b[0;34m\u001b[0m\u001b[0m\n\u001b[1;32m    183\u001b[0m \u001b[0;34m\u001b[0m\u001b[0m\n\u001b[0;32m--> 184\u001b[0;31m         \u001b[0mself\u001b[0m\u001b[0;34m.\u001b[0m\u001b[0m_check\u001b[0m\u001b[0;34m(\u001b[0m\u001b[0;34m)\u001b[0m\u001b[0;34m\u001b[0m\u001b[0m\n\u001b[0m\u001b[1;32m    185\u001b[0m \u001b[0;34m\u001b[0m\u001b[0m\n\u001b[1;32m    186\u001b[0m     \u001b[0;32mdef\u001b[0m \u001b[0mgetnnz\u001b[0m\u001b[0;34m(\u001b[0m\u001b[0mself\u001b[0m\u001b[0;34m,\u001b[0m \u001b[0maxis\u001b[0m\u001b[0;34m=\u001b[0m\u001b[0;32mNone\u001b[0m\u001b[0;34m)\u001b[0m\u001b[0;34m:\u001b[0m\u001b[0;34m\u001b[0m\u001b[0m\n",
      "\u001b[0;32m/home/gabriel/.local/lib/python3.5/site-packages/scipy/sparse/coo.py\u001b[0m in \u001b[0;36m_check\u001b[0;34m(self)\u001b[0m\n\u001b[1;32m    226\u001b[0m         \u001b[0mself\u001b[0m\u001b[0;34m.\u001b[0m\u001b[0mdata\u001b[0m \u001b[0;34m=\u001b[0m \u001b[0mto_native\u001b[0m\u001b[0;34m(\u001b[0m\u001b[0mself\u001b[0m\u001b[0;34m.\u001b[0m\u001b[0mdata\u001b[0m\u001b[0;34m)\u001b[0m\u001b[0;34m\u001b[0m\u001b[0m\n\u001b[1;32m    227\u001b[0m \u001b[0;34m\u001b[0m\u001b[0m\n\u001b[0;32m--> 228\u001b[0;31m         \u001b[0;32mif\u001b[0m \u001b[0mself\u001b[0m\u001b[0;34m.\u001b[0m\u001b[0mnnz\u001b[0m \u001b[0;34m>\u001b[0m \u001b[0;36m0\u001b[0m\u001b[0;34m:\u001b[0m\u001b[0;34m\u001b[0m\u001b[0m\n\u001b[0m\u001b[1;32m    229\u001b[0m             \u001b[0;32mif\u001b[0m \u001b[0mself\u001b[0m\u001b[0;34m.\u001b[0m\u001b[0mrow\u001b[0m\u001b[0;34m.\u001b[0m\u001b[0mmax\u001b[0m\u001b[0;34m(\u001b[0m\u001b[0;34m)\u001b[0m \u001b[0;34m>=\u001b[0m \u001b[0mself\u001b[0m\u001b[0;34m.\u001b[0m\u001b[0mshape\u001b[0m\u001b[0;34m[\u001b[0m\u001b[0;36m0\u001b[0m\u001b[0;34m]\u001b[0m\u001b[0;34m:\u001b[0m\u001b[0;34m\u001b[0m\u001b[0m\n\u001b[1;32m    230\u001b[0m                 \u001b[0;32mraise\u001b[0m \u001b[0mValueError\u001b[0m\u001b[0;34m(\u001b[0m\u001b[0;34m'row index exceeds matrix dimensions'\u001b[0m\u001b[0;34m)\u001b[0m\u001b[0;34m\u001b[0m\u001b[0m\n",
      "\u001b[0;32m/home/gabriel/.local/lib/python3.5/site-packages/scipy/sparse/base.py\u001b[0m in \u001b[0;36mnnz\u001b[0;34m(self)\u001b[0m\n\u001b[1;32m    187\u001b[0m         \u001b[0mcount_nonzero\u001b[0m \u001b[0;34m:\u001b[0m \u001b[0mNumber\u001b[0m \u001b[0mof\u001b[0m \u001b[0mnon\u001b[0m\u001b[0;34m-\u001b[0m\u001b[0mzero\u001b[0m \u001b[0mentries\u001b[0m\u001b[0;34m\u001b[0m\u001b[0m\n\u001b[1;32m    188\u001b[0m         \"\"\"\n\u001b[0;32m--> 189\u001b[0;31m         \u001b[0;32mreturn\u001b[0m \u001b[0mself\u001b[0m\u001b[0;34m.\u001b[0m\u001b[0mgetnnz\u001b[0m\u001b[0;34m(\u001b[0m\u001b[0;34m)\u001b[0m\u001b[0;34m\u001b[0m\u001b[0m\n\u001b[0m\u001b[1;32m    190\u001b[0m \u001b[0;34m\u001b[0m\u001b[0m\n\u001b[1;32m    191\u001b[0m     \u001b[0;32mdef\u001b[0m \u001b[0mgetformat\u001b[0m\u001b[0;34m(\u001b[0m\u001b[0mself\u001b[0m\u001b[0;34m)\u001b[0m\u001b[0;34m:\u001b[0m\u001b[0;34m\u001b[0m\u001b[0m\n",
      "\u001b[0;32m/home/gabriel/.local/lib/python3.5/site-packages/scipy/sparse/coo.py\u001b[0m in \u001b[0;36mgetnnz\u001b[0;34m(self, axis)\u001b[0m\n\u001b[1;32m    188\u001b[0m             \u001b[0mnnz\u001b[0m \u001b[0;34m=\u001b[0m \u001b[0mlen\u001b[0m\u001b[0;34m(\u001b[0m\u001b[0mself\u001b[0m\u001b[0;34m.\u001b[0m\u001b[0mdata\u001b[0m\u001b[0;34m)\u001b[0m\u001b[0;34m\u001b[0m\u001b[0m\n\u001b[1;32m    189\u001b[0m             \u001b[0;32mif\u001b[0m \u001b[0mnnz\u001b[0m \u001b[0;34m!=\u001b[0m \u001b[0mlen\u001b[0m\u001b[0;34m(\u001b[0m\u001b[0mself\u001b[0m\u001b[0;34m.\u001b[0m\u001b[0mrow\u001b[0m\u001b[0;34m)\u001b[0m \u001b[0;32mor\u001b[0m \u001b[0mnnz\u001b[0m \u001b[0;34m!=\u001b[0m \u001b[0mlen\u001b[0m\u001b[0;34m(\u001b[0m\u001b[0mself\u001b[0m\u001b[0;34m.\u001b[0m\u001b[0mcol\u001b[0m\u001b[0;34m)\u001b[0m\u001b[0;34m:\u001b[0m\u001b[0;34m\u001b[0m\u001b[0m\n\u001b[0;32m--> 190\u001b[0;31m                 raise ValueError('row, column, and data array must all be the '\n\u001b[0m\u001b[1;32m    191\u001b[0m                                  'same length')\n\u001b[1;32m    192\u001b[0m \u001b[0;34m\u001b[0m\u001b[0m\n",
      "\u001b[0;31mValueError\u001b[0m: row, column, and data array must all be the same length"
     ]
    }
   ],
   "source": [
    "# Get strongest examples of a single topic\n",
    "for row in ai.topicmodels.TopicDocumentRecommendation(topics[0], model, n_docs=20):\n",
    "    if 'title' in row.keys():\n",
    "        print(row['title'])"
   ]
  },
  {
   "cell_type": "code",
   "execution_count": 51,
   "metadata": {
    "collapsed": false
   },
   "outputs": [
    {
     "ename": "ValueError",
     "evalue": "row, column, and data array must all be the same length",
     "output_type": "error",
     "traceback": [
      "\u001b[0;31m---------------------------------------------------------------------------\u001b[0m",
      "\u001b[0;31mValueError\u001b[0m                                Traceback (most recent call last)",
      "\u001b[0;32m<ipython-input-51-0808894e6542>\u001b[0m in \u001b[0;36m<module>\u001b[0;34m()\u001b[0m\n\u001b[1;32m      1\u001b[0m \u001b[0;31m# Get strongest examples of each topic in a collection of topics\u001b[0m\u001b[0;34m\u001b[0m\u001b[0;34m\u001b[0m\u001b[0m\n\u001b[0;32m----> 2\u001b[0;31m \u001b[0mrecommendations\u001b[0m \u001b[0;34m=\u001b[0m \u001b[0mai\u001b[0m\u001b[0;34m.\u001b[0m\u001b[0mtopicmodels\u001b[0m\u001b[0;34m.\u001b[0m\u001b[0mTopicDocumentRecommendation\u001b[0m\u001b[0;34m(\u001b[0m\u001b[0mtopics\u001b[0m\u001b[0;34m,\u001b[0m \u001b[0mmodel\u001b[0m\u001b[0;34m,\u001b[0m \u001b[0mn_docs\u001b[0m\u001b[0;34m=\u001b[0m\u001b[0;36m5\u001b[0m\u001b[0;34m)\u001b[0m\u001b[0;34m\u001b[0m\u001b[0m\n\u001b[0m\u001b[1;32m      3\u001b[0m \u001b[0;32mfor\u001b[0m \u001b[0mi\u001b[0m\u001b[0;34m,\u001b[0m \u001b[0mtopicdocs\u001b[0m \u001b[0;32min\u001b[0m \u001b[0menumerate\u001b[0m\u001b[0;34m(\u001b[0m\u001b[0mrecommendations\u001b[0m\u001b[0;34m)\u001b[0m\u001b[0;34m:\u001b[0m\u001b[0;34m\u001b[0m\u001b[0m\n\u001b[1;32m      4\u001b[0m     \u001b[0mprint\u001b[0m\u001b[0;34m(\u001b[0m\u001b[0;34m\"TOPIC {}\"\u001b[0m\u001b[0;34m.\u001b[0m\u001b[0mformat\u001b[0m\u001b[0;34m(\u001b[0m\u001b[0mi\u001b[0m\u001b[0;34m+\u001b[0m\u001b[0;36m1\u001b[0m\u001b[0;34m)\u001b[0m\u001b[0;34m)\u001b[0m\u001b[0;34m\u001b[0m\u001b[0m\n\u001b[1;32m      5\u001b[0m     \u001b[0;32mfor\u001b[0m \u001b[0mrow\u001b[0m \u001b[0;32min\u001b[0m \u001b[0mtopicdocs\u001b[0m\u001b[0;34m:\u001b[0m\u001b[0;34m\u001b[0m\u001b[0m\n",
      "\u001b[0;32m/usr/local/lib/python3.5/dist-packages/anseri/analytics/topicmodels.pyx\u001b[0m in \u001b[0;36manseri.analytics.topicmodels.TopicDocumentRecommendation (anseri/analytics/topicmodels.c:18683)\u001b[0;34m()\u001b[0m\n",
      "\u001b[0;32m/usr/local/lib/python3.5/dist-packages/anseri/analytics/topicmodels.pyx\u001b[0m in \u001b[0;36manseri.analytics.topicmodels.TopicModel.score (anseri/analytics/topicmodels.c:9179)\u001b[0;34m()\u001b[0m\n",
      "\u001b[0;32m/usr/local/lib/python3.5/dist-packages/anseri/analytics/topicmodels.pyx\u001b[0m in \u001b[0;36manseri.analytics.topicmodels.TopicModel.mat (anseri/analytics/topicmodels.c:8871)\u001b[0;34m()\u001b[0m\n",
      "\u001b[0;32m/home/gabriel/.local/lib/python3.5/site-packages/scipy/sparse/coo.py\u001b[0m in \u001b[0;36m__init__\u001b[0;34m(self, arg1, shape, dtype, copy)\u001b[0m\n\u001b[1;32m    182\u001b[0m             \u001b[0mself\u001b[0m\u001b[0;34m.\u001b[0m\u001b[0mdata\u001b[0m \u001b[0;34m=\u001b[0m \u001b[0mself\u001b[0m\u001b[0;34m.\u001b[0m\u001b[0mdata\u001b[0m\u001b[0;34m.\u001b[0m\u001b[0mastype\u001b[0m\u001b[0;34m(\u001b[0m\u001b[0mdtype\u001b[0m\u001b[0;34m,\u001b[0m \u001b[0mcopy\u001b[0m\u001b[0;34m=\u001b[0m\u001b[0;32mFalse\u001b[0m\u001b[0;34m)\u001b[0m\u001b[0;34m\u001b[0m\u001b[0m\n\u001b[1;32m    183\u001b[0m \u001b[0;34m\u001b[0m\u001b[0m\n\u001b[0;32m--> 184\u001b[0;31m         \u001b[0mself\u001b[0m\u001b[0;34m.\u001b[0m\u001b[0m_check\u001b[0m\u001b[0;34m(\u001b[0m\u001b[0;34m)\u001b[0m\u001b[0;34m\u001b[0m\u001b[0m\n\u001b[0m\u001b[1;32m    185\u001b[0m \u001b[0;34m\u001b[0m\u001b[0m\n\u001b[1;32m    186\u001b[0m     \u001b[0;32mdef\u001b[0m \u001b[0mgetnnz\u001b[0m\u001b[0;34m(\u001b[0m\u001b[0mself\u001b[0m\u001b[0;34m,\u001b[0m \u001b[0maxis\u001b[0m\u001b[0;34m=\u001b[0m\u001b[0;32mNone\u001b[0m\u001b[0;34m)\u001b[0m\u001b[0;34m:\u001b[0m\u001b[0;34m\u001b[0m\u001b[0m\n",
      "\u001b[0;32m/home/gabriel/.local/lib/python3.5/site-packages/scipy/sparse/coo.py\u001b[0m in \u001b[0;36m_check\u001b[0;34m(self)\u001b[0m\n\u001b[1;32m    226\u001b[0m         \u001b[0mself\u001b[0m\u001b[0;34m.\u001b[0m\u001b[0mdata\u001b[0m \u001b[0;34m=\u001b[0m \u001b[0mto_native\u001b[0m\u001b[0;34m(\u001b[0m\u001b[0mself\u001b[0m\u001b[0;34m.\u001b[0m\u001b[0mdata\u001b[0m\u001b[0;34m)\u001b[0m\u001b[0;34m\u001b[0m\u001b[0m\n\u001b[1;32m    227\u001b[0m \u001b[0;34m\u001b[0m\u001b[0m\n\u001b[0;32m--> 228\u001b[0;31m         \u001b[0;32mif\u001b[0m \u001b[0mself\u001b[0m\u001b[0;34m.\u001b[0m\u001b[0mnnz\u001b[0m \u001b[0;34m>\u001b[0m \u001b[0;36m0\u001b[0m\u001b[0;34m:\u001b[0m\u001b[0;34m\u001b[0m\u001b[0m\n\u001b[0m\u001b[1;32m    229\u001b[0m             \u001b[0;32mif\u001b[0m \u001b[0mself\u001b[0m\u001b[0;34m.\u001b[0m\u001b[0mrow\u001b[0m\u001b[0;34m.\u001b[0m\u001b[0mmax\u001b[0m\u001b[0;34m(\u001b[0m\u001b[0;34m)\u001b[0m \u001b[0;34m>=\u001b[0m \u001b[0mself\u001b[0m\u001b[0;34m.\u001b[0m\u001b[0mshape\u001b[0m\u001b[0;34m[\u001b[0m\u001b[0;36m0\u001b[0m\u001b[0;34m]\u001b[0m\u001b[0;34m:\u001b[0m\u001b[0;34m\u001b[0m\u001b[0m\n\u001b[1;32m    230\u001b[0m                 \u001b[0;32mraise\u001b[0m \u001b[0mValueError\u001b[0m\u001b[0;34m(\u001b[0m\u001b[0;34m'row index exceeds matrix dimensions'\u001b[0m\u001b[0;34m)\u001b[0m\u001b[0;34m\u001b[0m\u001b[0m\n",
      "\u001b[0;32m/home/gabriel/.local/lib/python3.5/site-packages/scipy/sparse/base.py\u001b[0m in \u001b[0;36mnnz\u001b[0;34m(self)\u001b[0m\n\u001b[1;32m    187\u001b[0m         \u001b[0mcount_nonzero\u001b[0m \u001b[0;34m:\u001b[0m \u001b[0mNumber\u001b[0m \u001b[0mof\u001b[0m \u001b[0mnon\u001b[0m\u001b[0;34m-\u001b[0m\u001b[0mzero\u001b[0m \u001b[0mentries\u001b[0m\u001b[0;34m\u001b[0m\u001b[0m\n\u001b[1;32m    188\u001b[0m         \"\"\"\n\u001b[0;32m--> 189\u001b[0;31m         \u001b[0;32mreturn\u001b[0m \u001b[0mself\u001b[0m\u001b[0;34m.\u001b[0m\u001b[0mgetnnz\u001b[0m\u001b[0;34m(\u001b[0m\u001b[0;34m)\u001b[0m\u001b[0;34m\u001b[0m\u001b[0m\n\u001b[0m\u001b[1;32m    190\u001b[0m \u001b[0;34m\u001b[0m\u001b[0m\n\u001b[1;32m    191\u001b[0m     \u001b[0;32mdef\u001b[0m \u001b[0mgetformat\u001b[0m\u001b[0;34m(\u001b[0m\u001b[0mself\u001b[0m\u001b[0;34m)\u001b[0m\u001b[0;34m:\u001b[0m\u001b[0;34m\u001b[0m\u001b[0m\n",
      "\u001b[0;32m/home/gabriel/.local/lib/python3.5/site-packages/scipy/sparse/coo.py\u001b[0m in \u001b[0;36mgetnnz\u001b[0;34m(self, axis)\u001b[0m\n\u001b[1;32m    188\u001b[0m             \u001b[0mnnz\u001b[0m \u001b[0;34m=\u001b[0m \u001b[0mlen\u001b[0m\u001b[0;34m(\u001b[0m\u001b[0mself\u001b[0m\u001b[0;34m.\u001b[0m\u001b[0mdata\u001b[0m\u001b[0;34m)\u001b[0m\u001b[0;34m\u001b[0m\u001b[0m\n\u001b[1;32m    189\u001b[0m             \u001b[0;32mif\u001b[0m \u001b[0mnnz\u001b[0m \u001b[0;34m!=\u001b[0m \u001b[0mlen\u001b[0m\u001b[0;34m(\u001b[0m\u001b[0mself\u001b[0m\u001b[0;34m.\u001b[0m\u001b[0mrow\u001b[0m\u001b[0;34m)\u001b[0m \u001b[0;32mor\u001b[0m \u001b[0mnnz\u001b[0m \u001b[0;34m!=\u001b[0m \u001b[0mlen\u001b[0m\u001b[0;34m(\u001b[0m\u001b[0mself\u001b[0m\u001b[0;34m.\u001b[0m\u001b[0mcol\u001b[0m\u001b[0;34m)\u001b[0m\u001b[0;34m:\u001b[0m\u001b[0;34m\u001b[0m\u001b[0m\n\u001b[0;32m--> 190\u001b[0;31m                 raise ValueError('row, column, and data array must all be the '\n\u001b[0m\u001b[1;32m    191\u001b[0m                                  'same length')\n\u001b[1;32m    192\u001b[0m \u001b[0;34m\u001b[0m\u001b[0m\n",
      "\u001b[0;31mValueError\u001b[0m: row, column, and data array must all be the same length"
     ]
    }
   ],
   "source": [
    "# Get strongest examples of each topic in a collection of topics\n",
    "recommendations = ai.topicmodels.TopicDocumentRecommendation(topics, model, n_docs=5)\n",
    "for i, topicdocs in enumerate(recommendations):\n",
    "    print(\"TOPIC {}\".format(i+1))\n",
    "    for row in topicdocs:\n",
    "        if 'title' in row.keys():\n",
    "            print(row['title'])"
   ]
  },
  {
   "cell_type": "markdown",
   "metadata": {},
   "source": [
    "#### Note: Defining document display\n",
    "#### Different datasets use different schemas. The following code snippet shows you how to determine the names of columns in your dataset so you can decide how to display your content."
   ]
  },
  {
   "cell_type": "markdown",
   "metadata": {},
   "source": [
    "## 11. Subtopics"
   ]
  },
  {
   "cell_type": "code",
   "execution_count": 52,
   "metadata": {
    "collapsed": false
   },
   "outputs": [
    {
     "name": "stdout",
     "output_type": "stream",
     "text": [
      "death singer involuntary: [death, singer, involuntary, murray, star, trial, ruled, guilty]\n"
     ]
    }
   ],
   "source": [
    "selected_topic = 1\n",
    "print(topics[selected_topic])"
   ]
  },
  {
   "cell_type": "code",
   "execution_count": 53,
   "metadata": {
    "collapsed": false
   },
   "outputs": [
    {
     "ename": "ValueError",
     "evalue": "row, column, and data array must all be the same length",
     "output_type": "error",
     "traceback": [
      "\u001b[0;31m---------------------------------------------------------------------------\u001b[0m",
      "\u001b[0;31mValueError\u001b[0m                                Traceback (most recent call last)",
      "\u001b[0;32m<ipython-input-53-d78a021d7f7b>\u001b[0m in \u001b[0;36m<module>\u001b[0;34m()\u001b[0m\n\u001b[1;32m      6\u001b[0m \u001b[0;34m\u001b[0m\u001b[0m\n\u001b[1;32m      7\u001b[0m \u001b[0;31m# Make the selection concrete by passing in the model\u001b[0m\u001b[0;34m\u001b[0m\u001b[0;34m\u001b[0m\u001b[0m\n\u001b[0;32m----> 8\u001b[0;31m \u001b[0msubtopic_sel\u001b[0m\u001b[0;34m(\u001b[0m\u001b[0mmodel\u001b[0m\u001b[0;34m)\u001b[0m\u001b[0;34m\u001b[0m\u001b[0m\n\u001b[0m",
      "\u001b[0;32m/usr/local/lib/python3.5/dist-packages/anseri/analytics/topicmodels.pyx\u001b[0m in \u001b[0;36manseri.analytics.topicmodels.TopicSelection.__call__ (anseri/analytics/topicmodels.c:17998)\u001b[0;34m()\u001b[0m\n",
      "\u001b[0;32m/usr/local/lib/python3.5/dist-packages/anseri/analytics/topicmodels.pyx\u001b[0m in \u001b[0;36manseri.analytics.topicmodels.TopicModel.score (anseri/analytics/topicmodels.c:9179)\u001b[0;34m()\u001b[0m\n",
      "\u001b[0;32m/usr/local/lib/python3.5/dist-packages/anseri/analytics/topicmodels.pyx\u001b[0m in \u001b[0;36manseri.analytics.topicmodels.TopicModel.mat (anseri/analytics/topicmodels.c:8871)\u001b[0;34m()\u001b[0m\n",
      "\u001b[0;32m/home/gabriel/.local/lib/python3.5/site-packages/scipy/sparse/coo.py\u001b[0m in \u001b[0;36m__init__\u001b[0;34m(self, arg1, shape, dtype, copy)\u001b[0m\n\u001b[1;32m    182\u001b[0m             \u001b[0mself\u001b[0m\u001b[0;34m.\u001b[0m\u001b[0mdata\u001b[0m \u001b[0;34m=\u001b[0m \u001b[0mself\u001b[0m\u001b[0;34m.\u001b[0m\u001b[0mdata\u001b[0m\u001b[0;34m.\u001b[0m\u001b[0mastype\u001b[0m\u001b[0;34m(\u001b[0m\u001b[0mdtype\u001b[0m\u001b[0;34m,\u001b[0m \u001b[0mcopy\u001b[0m\u001b[0;34m=\u001b[0m\u001b[0;32mFalse\u001b[0m\u001b[0;34m)\u001b[0m\u001b[0;34m\u001b[0m\u001b[0m\n\u001b[1;32m    183\u001b[0m \u001b[0;34m\u001b[0m\u001b[0m\n\u001b[0;32m--> 184\u001b[0;31m         \u001b[0mself\u001b[0m\u001b[0;34m.\u001b[0m\u001b[0m_check\u001b[0m\u001b[0;34m(\u001b[0m\u001b[0;34m)\u001b[0m\u001b[0;34m\u001b[0m\u001b[0m\n\u001b[0m\u001b[1;32m    185\u001b[0m \u001b[0;34m\u001b[0m\u001b[0m\n\u001b[1;32m    186\u001b[0m     \u001b[0;32mdef\u001b[0m \u001b[0mgetnnz\u001b[0m\u001b[0;34m(\u001b[0m\u001b[0mself\u001b[0m\u001b[0;34m,\u001b[0m \u001b[0maxis\u001b[0m\u001b[0;34m=\u001b[0m\u001b[0;32mNone\u001b[0m\u001b[0;34m)\u001b[0m\u001b[0;34m:\u001b[0m\u001b[0;34m\u001b[0m\u001b[0m\n",
      "\u001b[0;32m/home/gabriel/.local/lib/python3.5/site-packages/scipy/sparse/coo.py\u001b[0m in \u001b[0;36m_check\u001b[0;34m(self)\u001b[0m\n\u001b[1;32m    226\u001b[0m         \u001b[0mself\u001b[0m\u001b[0;34m.\u001b[0m\u001b[0mdata\u001b[0m \u001b[0;34m=\u001b[0m \u001b[0mto_native\u001b[0m\u001b[0;34m(\u001b[0m\u001b[0mself\u001b[0m\u001b[0;34m.\u001b[0m\u001b[0mdata\u001b[0m\u001b[0;34m)\u001b[0m\u001b[0;34m\u001b[0m\u001b[0m\n\u001b[1;32m    227\u001b[0m \u001b[0;34m\u001b[0m\u001b[0m\n\u001b[0;32m--> 228\u001b[0;31m         \u001b[0;32mif\u001b[0m \u001b[0mself\u001b[0m\u001b[0;34m.\u001b[0m\u001b[0mnnz\u001b[0m \u001b[0;34m>\u001b[0m \u001b[0;36m0\u001b[0m\u001b[0;34m:\u001b[0m\u001b[0;34m\u001b[0m\u001b[0m\n\u001b[0m\u001b[1;32m    229\u001b[0m             \u001b[0;32mif\u001b[0m \u001b[0mself\u001b[0m\u001b[0;34m.\u001b[0m\u001b[0mrow\u001b[0m\u001b[0;34m.\u001b[0m\u001b[0mmax\u001b[0m\u001b[0;34m(\u001b[0m\u001b[0;34m)\u001b[0m \u001b[0;34m>=\u001b[0m \u001b[0mself\u001b[0m\u001b[0;34m.\u001b[0m\u001b[0mshape\u001b[0m\u001b[0;34m[\u001b[0m\u001b[0;36m0\u001b[0m\u001b[0;34m]\u001b[0m\u001b[0;34m:\u001b[0m\u001b[0;34m\u001b[0m\u001b[0m\n\u001b[1;32m    230\u001b[0m                 \u001b[0;32mraise\u001b[0m \u001b[0mValueError\u001b[0m\u001b[0;34m(\u001b[0m\u001b[0;34m'row index exceeds matrix dimensions'\u001b[0m\u001b[0;34m)\u001b[0m\u001b[0;34m\u001b[0m\u001b[0m\n",
      "\u001b[0;32m/home/gabriel/.local/lib/python3.5/site-packages/scipy/sparse/base.py\u001b[0m in \u001b[0;36mnnz\u001b[0;34m(self)\u001b[0m\n\u001b[1;32m    187\u001b[0m         \u001b[0mcount_nonzero\u001b[0m \u001b[0;34m:\u001b[0m \u001b[0mNumber\u001b[0m \u001b[0mof\u001b[0m \u001b[0mnon\u001b[0m\u001b[0;34m-\u001b[0m\u001b[0mzero\u001b[0m \u001b[0mentries\u001b[0m\u001b[0;34m\u001b[0m\u001b[0m\n\u001b[1;32m    188\u001b[0m         \"\"\"\n\u001b[0;32m--> 189\u001b[0;31m         \u001b[0;32mreturn\u001b[0m \u001b[0mself\u001b[0m\u001b[0;34m.\u001b[0m\u001b[0mgetnnz\u001b[0m\u001b[0;34m(\u001b[0m\u001b[0;34m)\u001b[0m\u001b[0;34m\u001b[0m\u001b[0m\n\u001b[0m\u001b[1;32m    190\u001b[0m \u001b[0;34m\u001b[0m\u001b[0m\n\u001b[1;32m    191\u001b[0m     \u001b[0;32mdef\u001b[0m \u001b[0mgetformat\u001b[0m\u001b[0;34m(\u001b[0m\u001b[0mself\u001b[0m\u001b[0;34m)\u001b[0m\u001b[0;34m:\u001b[0m\u001b[0;34m\u001b[0m\u001b[0m\n",
      "\u001b[0;32m/home/gabriel/.local/lib/python3.5/site-packages/scipy/sparse/coo.py\u001b[0m in \u001b[0;36mgetnnz\u001b[0;34m(self, axis)\u001b[0m\n\u001b[1;32m    188\u001b[0m             \u001b[0mnnz\u001b[0m \u001b[0;34m=\u001b[0m \u001b[0mlen\u001b[0m\u001b[0;34m(\u001b[0m\u001b[0mself\u001b[0m\u001b[0;34m.\u001b[0m\u001b[0mdata\u001b[0m\u001b[0;34m)\u001b[0m\u001b[0;34m\u001b[0m\u001b[0m\n\u001b[1;32m    189\u001b[0m             \u001b[0;32mif\u001b[0m \u001b[0mnnz\u001b[0m \u001b[0;34m!=\u001b[0m \u001b[0mlen\u001b[0m\u001b[0;34m(\u001b[0m\u001b[0mself\u001b[0m\u001b[0;34m.\u001b[0m\u001b[0mrow\u001b[0m\u001b[0;34m)\u001b[0m \u001b[0;32mor\u001b[0m \u001b[0mnnz\u001b[0m \u001b[0;34m!=\u001b[0m \u001b[0mlen\u001b[0m\u001b[0;34m(\u001b[0m\u001b[0mself\u001b[0m\u001b[0;34m.\u001b[0m\u001b[0mcol\u001b[0m\u001b[0;34m)\u001b[0m\u001b[0;34m:\u001b[0m\u001b[0;34m\u001b[0m\u001b[0m\n\u001b[0;32m--> 190\u001b[0;31m                 raise ValueError('row, column, and data array must all be the '\n\u001b[0m\u001b[1;32m    191\u001b[0m                                  'same length')\n\u001b[1;32m    192\u001b[0m \u001b[0;34m\u001b[0m\u001b[0m\n",
      "\u001b[0;31mValueError\u001b[0m: row, column, and data array must all be the same length"
     ]
    }
   ],
   "source": [
    "# TopicSelection defines a topic \"mention\" based on a threshold of topic strength,\n",
    "# either 'abs' for a concrete value threshold, or 'quantile' to specify a minimum quantile threshold\n",
    "# Then, all documents \"mentioning\" the given topic are selected.\n",
    "\n",
    "subtopic_sel = ai.topicmodels.TopicSelection(topics[selected_topic], thresh='quantile', thresh_val=20.)\n",
    "\n",
    "# Make the selection concrete by passing in the model\n",
    "subtopic_sel(model)    "
   ]
  },
  {
   "cell_type": "code",
   "execution_count": 54,
   "metadata": {
    "collapsed": false
   },
   "outputs": [
    {
     "ename": "ValueError",
     "evalue": "Selection object must be concrete to be used to slice a data model.",
     "output_type": "error",
     "traceback": [
      "\u001b[0;31m---------------------------------------------------------------------------\u001b[0m",
      "\u001b[0;31mValueError\u001b[0m                                Traceback (most recent call last)",
      "\u001b[0;32m<ipython-input-54-abbad922d335>\u001b[0m in \u001b[0;36m<module>\u001b[0;34m()\u001b[0m\n\u001b[1;32m      1\u001b[0m \u001b[0;31m# Data models can be sliced by a selection\u001b[0m\u001b[0;34m\u001b[0m\u001b[0;34m\u001b[0m\u001b[0m\n\u001b[0;32m----> 2\u001b[0;31m \u001b[0msubmodel\u001b[0m \u001b[0;34m=\u001b[0m \u001b[0mmodel\u001b[0m\u001b[0;34m[\u001b[0m\u001b[0msubtopic_sel\u001b[0m\u001b[0;34m]\u001b[0m\u001b[0;34m\u001b[0m\u001b[0m\n\u001b[0m",
      "\u001b[0;32m/usr/local/lib/python3.5/dist-packages/anseri/data_model.pyx\u001b[0m in \u001b[0;36manseri.data_model.DataModel.__getitem__ (anseri/data_model.c:12470)\u001b[0;34m()\u001b[0m\n",
      "\u001b[0;31mValueError\u001b[0m: Selection object must be concrete to be used to slice a data model."
     ]
    }
   ],
   "source": [
    "# Data models can be sliced by a selection\n",
    "submodel = model[subtopic_sel]   "
   ]
  },
  {
   "cell_type": "code",
   "execution_count": 55,
   "metadata": {
    "collapsed": false
   },
   "outputs": [
    {
     "ename": "NameError",
     "evalue": "name 'submodel' is not defined",
     "output_type": "error",
     "traceback": [
      "\u001b[0;31m---------------------------------------------------------------------------\u001b[0m",
      "\u001b[0;31mNameError\u001b[0m                                 Traceback (most recent call last)",
      "\u001b[0;32m<ipython-input-55-a7d10665cd3f>\u001b[0m in \u001b[0;36m<module>\u001b[0;34m()\u001b[0m\n\u001b[1;32m      1\u001b[0m \u001b[0;31m# ignore words from already discovered topics\u001b[0m\u001b[0;34m\u001b[0m\u001b[0;34m\u001b[0m\u001b[0m\n\u001b[0;32m----> 2\u001b[0;31m \u001b[0msubtopics\u001b[0m \u001b[0;34m=\u001b[0m \u001b[0mSPCA\u001b[0m\u001b[0;34m(\u001b[0m\u001b[0msubmodel\u001b[0m\u001b[0;34m,\u001b[0m \u001b[0mignore_words\u001b[0m\u001b[0;34m=\u001b[0m\u001b[0;34m[\u001b[0m\u001b[0mk\u001b[0m \u001b[0;32mfor\u001b[0m \u001b[0mt\u001b[0m \u001b[0;32min\u001b[0m \u001b[0mtopics\u001b[0m \u001b[0;32mfor\u001b[0m \u001b[0mk\u001b[0m \u001b[0;32min\u001b[0m \u001b[0mt\u001b[0m\u001b[0;34m.\u001b[0m\u001b[0mfeatures\u001b[0m\u001b[0;34m]\u001b[0m\u001b[0;34m)\u001b[0m\u001b[0;34m\u001b[0m\u001b[0m\n\u001b[0m\u001b[1;32m      3\u001b[0m \u001b[0mprint\u001b[0m\u001b[0;34m(\u001b[0m\u001b[0msubtopics\u001b[0m\u001b[0;34m)\u001b[0m\u001b[0;34m\u001b[0m\u001b[0m\n",
      "\u001b[0;31mNameError\u001b[0m: name 'submodel' is not defined"
     ]
    }
   ],
   "source": [
    "# ignore words from already discovered topics\n",
    "subtopics = SPCA(submodel, ignore_words=[k for t in topics for k in t.features])  \n",
    "print(subtopics)"
   ]
  },
  {
   "cell_type": "code",
   "execution_count": null,
   "metadata": {
    "collapsed": true
   },
   "outputs": [],
   "source": []
  },
  {
   "cell_type": "code",
   "execution_count": null,
   "metadata": {
    "collapsed": true
   },
   "outputs": [],
   "source": []
  },
  {
   "cell_type": "code",
   "execution_count": null,
   "metadata": {
    "collapsed": true
   },
   "outputs": [],
   "source": []
  },
  {
   "cell_type": "code",
   "execution_count": null,
   "metadata": {
    "collapsed": true
   },
   "outputs": [],
   "source": []
  },
  {
   "cell_type": "code",
   "execution_count": null,
   "metadata": {
    "collapsed": true
   },
   "outputs": [],
   "source": []
  },
  {
   "cell_type": "code",
   "execution_count": null,
   "metadata": {
    "collapsed": true
   },
   "outputs": [],
   "source": []
  },
  {
   "cell_type": "code",
   "execution_count": null,
   "metadata": {
    "collapsed": true
   },
   "outputs": [],
   "source": []
  },
  {
   "cell_type": "code",
   "execution_count": null,
   "metadata": {
    "collapsed": true
   },
   "outputs": [],
   "source": []
  },
  {
   "cell_type": "code",
   "execution_count": null,
   "metadata": {
    "collapsed": true
   },
   "outputs": [],
   "source": []
  }
 ],
 "metadata": {
  "anaconda-cloud": {},
  "kernelspec": {
   "display_name": "Python 2",
   "language": "python",
   "name": "python2"
  },
  "language_info": {
   "codemirror_mode": {
    "name": "ipython",
    "version": 2
   },
   "file_extension": ".py",
   "mimetype": "text/x-python",
   "name": "python",
   "nbconvert_exporter": "python",
   "pygments_lexer": "ipython2",
   "version": "2.7.12"
  }
 },
 "nbformat": 4,
 "nbformat_minor": 0
}
